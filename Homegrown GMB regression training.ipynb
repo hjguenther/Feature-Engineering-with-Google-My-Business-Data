{
 "cells": [
  {
   "cell_type": "code",
   "execution_count": 1,
   "metadata": {
    "collapsed": false
   },
   "outputs": [],
   "source": [
    "import graphlab as gl\n",
    "gl.canvas.set_target(target = 'ipynb')"
   ]
  },
  {
   "cell_type": "markdown",
   "metadata": {},
   "source": [
    "### Import Google My Business tidy data"
   ]
  },
  {
   "cell_type": "code",
   "execution_count": 2,
   "metadata": {
    "collapsed": false
   },
   "outputs": [
    {
     "name": "stderr",
     "output_type": "stream",
     "text": [
      "[INFO] graphlab.cython.cy_server: GraphLab Create v2.1 started. Logging: C:\\Users\\Heidi\\AppData\\Local\\Temp\\graphlab_server_1532457366.log.0\n"
     ]
    },
    {
     "name": "stdout",
     "output_type": "stream",
     "text": [
      "This non-commercial license of GraphLab Create for academic use is assigned to heidijoyguenther@gmail.com and will expire on May 31, 2019.\n"
     ]
    },
    {
     "data": {
      "text/html": [
       "<pre>Unable to parse line \"5601 Olde Wadsworth Blvd.,Homegrown Tap & Dough,Arvada,US,8399,1030,7369,22166,8239,13927,CO,931,411,441,79,66324.04,4-9,4-15\"</pre>"
      ],
      "text/plain": [
       "Unable to parse line \"5601 Olde Wadsworth Blvd.,Homegrown Tap & Dough,Arvada,US,8399,1030,7369,22166,8239,13927,CO,931,411,441,79,66324.04,4-9,4-15\""
      ]
     },
     "metadata": {},
     "output_type": "display_data"
    },
    {
     "data": {
      "text/html": [
       "<pre>1 lines failed to parse correctly</pre>"
      ],
      "text/plain": [
       "1 lines failed to parse correctly"
      ]
     },
     "metadata": {},
     "output_type": "display_data"
    },
    {
     "data": {
      "text/html": [
       "<pre>Finished parsing file C:\\Users\\Heidi\\Documents\\Python Scripts\\Homegrown GMB sep-june - Sheet1.csv</pre>"
      ],
      "text/plain": [
       "Finished parsing file C:\\Users\\Heidi\\Documents\\Python Scripts\\Homegrown GMB sep-june - Sheet1.csv"
      ]
     },
     "metadata": {},
     "output_type": "display_data"
    },
    {
     "data": {
      "text/html": [
       "<pre>Parsing completed. Parsed 40 lines in 0.02998 secs.</pre>"
      ],
      "text/plain": [
       "Parsing completed. Parsed 40 lines in 0.02998 secs."
      ]
     },
     "metadata": {},
     "output_type": "display_data"
    },
    {
     "name": "stdout",
     "output_type": "stream",
     "text": [
      "------------------------------------------------------\n",
      "Inferred types from first 100 line(s) of file as \n",
      "column_type_hints=[str,str,str,str,long,long,long,long,long,long,str,long,long,long,long,long,float,str,str]\n",
      "If parsing fails due to incorrect types, you can correct\n",
      "the inferred type list above and pass it to read_csv in\n",
      "the column_type_hints argument\n",
      "------------------------------------------------------\n"
     ]
    },
    {
     "data": {
      "text/html": [
       "<pre>Unable to parse line \"5601 Olde Wadsworth Blvd.,Homegrown Tap & Dough,Arvada,US,8399,1030,7369,22166,8239,13927,CO,931,411,441,79,66324.04,4-9,4-15\"</pre>"
      ],
      "text/plain": [
       "Unable to parse line \"5601 Olde Wadsworth Blvd.,Homegrown Tap & Dough,Arvada,US,8399,1030,7369,22166,8239,13927,CO,931,411,441,79,66324.04,4-9,4-15\""
      ]
     },
     "metadata": {},
     "output_type": "display_data"
    },
    {
     "data": {
      "text/html": [
       "<pre>1 lines failed to parse correctly</pre>"
      ],
      "text/plain": [
       "1 lines failed to parse correctly"
      ]
     },
     "metadata": {},
     "output_type": "display_data"
    },
    {
     "data": {
      "text/html": [
       "<pre>Finished parsing file C:\\Users\\Heidi\\Documents\\Python Scripts\\Homegrown GMB sep-june - Sheet1.csv</pre>"
      ],
      "text/plain": [
       "Finished parsing file C:\\Users\\Heidi\\Documents\\Python Scripts\\Homegrown GMB sep-june - Sheet1.csv"
      ]
     },
     "metadata": {},
     "output_type": "display_data"
    },
    {
     "data": {
      "text/html": [
       "<pre>Parsing completed. Parsed 40 lines in 0.022985 secs.</pre>"
      ],
      "text/plain": [
       "Parsing completed. Parsed 40 lines in 0.022985 secs."
      ]
     },
     "metadata": {},
     "output_type": "display_data"
    }
   ],
   "source": [
    "sales = gl.SFrame('Homegrown GMB sep-june - Sheet1.csv')"
   ]
  },
  {
   "cell_type": "code",
   "execution_count": 3,
   "metadata": {
    "collapsed": false
   },
   "outputs": [
    {
     "data": {
      "text/html": [
       "<div style=\"max-height:1000px;max-width:1500px;overflow:auto;\"><table frame=\"box\" rules=\"cols\">\n",
       "    <tr>\n",
       "        <th style=\"padding-left: 1em; padding-right: 1em; text-align: center\">Address</th>\n",
       "        <th style=\"padding-left: 1em; padding-right: 1em; text-align: center\">Business name</th>\n",
       "        <th style=\"padding-left: 1em; padding-right: 1em; text-align: center\">City</th>\n",
       "        <th style=\"padding-left: 1em; padding-right: 1em; text-align: center\">Country</th>\n",
       "        <th style=\"padding-left: 1em; padding-right: 1em; text-align: center\">Direct searches</th>\n",
       "        <th style=\"padding-left: 1em; padding-right: 1em; text-align: center\">Directions actions</th>\n",
       "        <th style=\"padding-left: 1em; padding-right: 1em; text-align: center\">Discovery searches</th>\n",
       "    </tr>\n",
       "    <tr>\n",
       "        <td style=\"padding-left: 1em; padding-right: 1em; text-align: center; vertical-align: top\">5601 Olde Wadsworth Blvd.</td>\n",
       "        <td style=\"padding-left: 1em; padding-right: 1em; text-align: center; vertical-align: top\">Homegrown Tap &amp; Dough</td>\n",
       "        <td style=\"padding-left: 1em; padding-right: 1em; text-align: center; vertical-align: top\">Arvada</td>\n",
       "        <td style=\"padding-left: 1em; padding-right: 1em; text-align: center; vertical-align: top\">US</td>\n",
       "        <td style=\"padding-left: 1em; padding-right: 1em; text-align: center; vertical-align: top\">674</td>\n",
       "        <td style=\"padding-left: 1em; padding-right: 1em; text-align: center; vertical-align: top\">333</td>\n",
       "        <td style=\"padding-left: 1em; padding-right: 1em; text-align: center; vertical-align: top\">5571</td>\n",
       "    </tr>\n",
       "    <tr>\n",
       "        <td style=\"padding-left: 1em; padding-right: 1em; text-align: center; vertical-align: top\">5601 Olde Wadsworth Blvd.</td>\n",
       "        <td style=\"padding-left: 1em; padding-right: 1em; text-align: center; vertical-align: top\">Homegrown Tap &amp; Dough</td>\n",
       "        <td style=\"padding-left: 1em; padding-right: 1em; text-align: center; vertical-align: top\">Arvada</td>\n",
       "        <td style=\"padding-left: 1em; padding-right: 1em; text-align: center; vertical-align: top\">US</td>\n",
       "        <td style=\"padding-left: 1em; padding-right: 1em; text-align: center; vertical-align: top\">677</td>\n",
       "        <td style=\"padding-left: 1em; padding-right: 1em; text-align: center; vertical-align: top\">423</td>\n",
       "        <td style=\"padding-left: 1em; padding-right: 1em; text-align: center; vertical-align: top\">5988</td>\n",
       "    </tr>\n",
       "    <tr>\n",
       "        <td style=\"padding-left: 1em; padding-right: 1em; text-align: center; vertical-align: top\">5601 Olde Wadsworth Blvd.</td>\n",
       "        <td style=\"padding-left: 1em; padding-right: 1em; text-align: center; vertical-align: top\">Homegrown Tap &amp; Dough</td>\n",
       "        <td style=\"padding-left: 1em; padding-right: 1em; text-align: center; vertical-align: top\">Arvada</td>\n",
       "        <td style=\"padding-left: 1em; padding-right: 1em; text-align: center; vertical-align: top\">US</td>\n",
       "        <td style=\"padding-left: 1em; padding-right: 1em; text-align: center; vertical-align: top\">639</td>\n",
       "        <td style=\"padding-left: 1em; padding-right: 1em; text-align: center; vertical-align: top\">304</td>\n",
       "        <td style=\"padding-left: 1em; padding-right: 1em; text-align: center; vertical-align: top\">5308</td>\n",
       "    </tr>\n",
       "    <tr>\n",
       "        <td style=\"padding-left: 1em; padding-right: 1em; text-align: center; vertical-align: top\">5601 Olde Wadsworth Blvd.</td>\n",
       "        <td style=\"padding-left: 1em; padding-right: 1em; text-align: center; vertical-align: top\">Homegrown Tap &amp; Dough</td>\n",
       "        <td style=\"padding-left: 1em; padding-right: 1em; text-align: center; vertical-align: top\">Arvada</td>\n",
       "        <td style=\"padding-left: 1em; padding-right: 1em; text-align: center; vertical-align: top\">US</td>\n",
       "        <td style=\"padding-left: 1em; padding-right: 1em; text-align: center; vertical-align: top\">694</td>\n",
       "        <td style=\"padding-left: 1em; padding-right: 1em; text-align: center; vertical-align: top\">259</td>\n",
       "        <td style=\"padding-left: 1em; padding-right: 1em; text-align: center; vertical-align: top\">5484</td>\n",
       "    </tr>\n",
       "    <tr>\n",
       "        <td style=\"padding-left: 1em; padding-right: 1em; text-align: center; vertical-align: top\">5601 Olde Wadsworth Blvd.</td>\n",
       "        <td style=\"padding-left: 1em; padding-right: 1em; text-align: center; vertical-align: top\">Homegrown Tap &amp; Dough</td>\n",
       "        <td style=\"padding-left: 1em; padding-right: 1em; text-align: center; vertical-align: top\">Arvada</td>\n",
       "        <td style=\"padding-left: 1em; padding-right: 1em; text-align: center; vertical-align: top\">US</td>\n",
       "        <td style=\"padding-left: 1em; padding-right: 1em; text-align: center; vertical-align: top\">694</td>\n",
       "        <td style=\"padding-left: 1em; padding-right: 1em; text-align: center; vertical-align: top\">377</td>\n",
       "        <td style=\"padding-left: 1em; padding-right: 1em; text-align: center; vertical-align: top\">5590</td>\n",
       "    </tr>\n",
       "    <tr>\n",
       "        <td style=\"padding-left: 1em; padding-right: 1em; text-align: center; vertical-align: top\">5601 Olde Wadsworth Blvd.</td>\n",
       "        <td style=\"padding-left: 1em; padding-right: 1em; text-align: center; vertical-align: top\">Homegrown Tap &amp; Dough</td>\n",
       "        <td style=\"padding-left: 1em; padding-right: 1em; text-align: center; vertical-align: top\">Arvada</td>\n",
       "        <td style=\"padding-left: 1em; padding-right: 1em; text-align: center; vertical-align: top\">US</td>\n",
       "        <td style=\"padding-left: 1em; padding-right: 1em; text-align: center; vertical-align: top\">634</td>\n",
       "        <td style=\"padding-left: 1em; padding-right: 1em; text-align: center; vertical-align: top\">272</td>\n",
       "        <td style=\"padding-left: 1em; padding-right: 1em; text-align: center; vertical-align: top\">5290</td>\n",
       "    </tr>\n",
       "    <tr>\n",
       "        <td style=\"padding-left: 1em; padding-right: 1em; text-align: center; vertical-align: top\">5601 Olde Wadsworth Blvd.</td>\n",
       "        <td style=\"padding-left: 1em; padding-right: 1em; text-align: center; vertical-align: top\">Homegrown Tap &amp; Dough</td>\n",
       "        <td style=\"padding-left: 1em; padding-right: 1em; text-align: center; vertical-align: top\">Arvada</td>\n",
       "        <td style=\"padding-left: 1em; padding-right: 1em; text-align: center; vertical-align: top\">US</td>\n",
       "        <td style=\"padding-left: 1em; padding-right: 1em; text-align: center; vertical-align: top\">512</td>\n",
       "        <td style=\"padding-left: 1em; padding-right: 1em; text-align: center; vertical-align: top\">230</td>\n",
       "        <td style=\"padding-left: 1em; padding-right: 1em; text-align: center; vertical-align: top\">4756</td>\n",
       "    </tr>\n",
       "    <tr>\n",
       "        <td style=\"padding-left: 1em; padding-right: 1em; text-align: center; vertical-align: top\">5601 Olde Wadsworth Blvd.</td>\n",
       "        <td style=\"padding-left: 1em; padding-right: 1em; text-align: center; vertical-align: top\">Homegrown Tap &amp; Dough</td>\n",
       "        <td style=\"padding-left: 1em; padding-right: 1em; text-align: center; vertical-align: top\">Arvada</td>\n",
       "        <td style=\"padding-left: 1em; padding-right: 1em; text-align: center; vertical-align: top\">US</td>\n",
       "        <td style=\"padding-left: 1em; padding-right: 1em; text-align: center; vertical-align: top\">714</td>\n",
       "        <td style=\"padding-left: 1em; padding-right: 1em; text-align: center; vertical-align: top\">229</td>\n",
       "        <td style=\"padding-left: 1em; padding-right: 1em; text-align: center; vertical-align: top\">4896</td>\n",
       "    </tr>\n",
       "    <tr>\n",
       "        <td style=\"padding-left: 1em; padding-right: 1em; text-align: center; vertical-align: top\">5601 Olde Wadsworth Blvd.</td>\n",
       "        <td style=\"padding-left: 1em; padding-right: 1em; text-align: center; vertical-align: top\">Homegrown Tap &amp; Dough</td>\n",
       "        <td style=\"padding-left: 1em; padding-right: 1em; text-align: center; vertical-align: top\">Arvada</td>\n",
       "        <td style=\"padding-left: 1em; padding-right: 1em; text-align: center; vertical-align: top\">US</td>\n",
       "        <td style=\"padding-left: 1em; padding-right: 1em; text-align: center; vertical-align: top\">606</td>\n",
       "        <td style=\"padding-left: 1em; padding-right: 1em; text-align: center; vertical-align: top\">311</td>\n",
       "        <td style=\"padding-left: 1em; padding-right: 1em; text-align: center; vertical-align: top\">5478</td>\n",
       "    </tr>\n",
       "    <tr>\n",
       "        <td style=\"padding-left: 1em; padding-right: 1em; text-align: center; vertical-align: top\">5601 Olde Wadsworth Blvd.</td>\n",
       "        <td style=\"padding-left: 1em; padding-right: 1em; text-align: center; vertical-align: top\">Homegrown Tap &amp; Dough</td>\n",
       "        <td style=\"padding-left: 1em; padding-right: 1em; text-align: center; vertical-align: top\">Arvada</td>\n",
       "        <td style=\"padding-left: 1em; padding-right: 1em; text-align: center; vertical-align: top\">US</td>\n",
       "        <td style=\"padding-left: 1em; padding-right: 1em; text-align: center; vertical-align: top\">755</td>\n",
       "        <td style=\"padding-left: 1em; padding-right: 1em; text-align: center; vertical-align: top\">242</td>\n",
       "        <td style=\"padding-left: 1em; padding-right: 1em; text-align: center; vertical-align: top\">5083</td>\n",
       "    </tr>\n",
       "</table>\n",
       "<table frame=\"box\" rules=\"cols\">\n",
       "    <tr>\n",
       "        <th style=\"padding-left: 1em; padding-right: 1em; text-align: center\">Maps views</th>\n",
       "        <th style=\"padding-left: 1em; padding-right: 1em; text-align: center\">Phone call actions</th>\n",
       "        <th style=\"padding-left: 1em; padding-right: 1em; text-align: center\">Search views</th>\n",
       "        <th style=\"padding-left: 1em; padding-right: 1em; text-align: center\">State</th>\n",
       "        <th style=\"padding-left: 1em; padding-right: 1em; text-align: center\">Total actions</th>\n",
       "        <th style=\"padding-left: 1em; padding-right: 1em; text-align: center\">Total searches</th>\n",
       "        <th style=\"padding-left: 1em; padding-right: 1em; text-align: center\">Total views</th>\n",
       "        <th style=\"padding-left: 1em; padding-right: 1em; text-align: center\">Website actions</th>\n",
       "    </tr>\n",
       "    <tr>\n",
       "        <td style=\"padding-left: 1em; padding-right: 1em; text-align: center; vertical-align: top\">9586</td>\n",
       "        <td style=\"padding-left: 1em; padding-right: 1em; text-align: center; vertical-align: top\">74</td>\n",
       "        <td style=\"padding-left: 1em; padding-right: 1em; text-align: center; vertical-align: top\">7026</td>\n",
       "        <td style=\"padding-left: 1em; padding-right: 1em; text-align: center; vertical-align: top\">CO</td>\n",
       "        <td style=\"padding-left: 1em; padding-right: 1em; text-align: center; vertical-align: top\">621</td>\n",
       "        <td style=\"padding-left: 1em; padding-right: 1em; text-align: center; vertical-align: top\">6245</td>\n",
       "        <td style=\"padding-left: 1em; padding-right: 1em; text-align: center; vertical-align: top\">16612</td>\n",
       "        <td style=\"padding-left: 1em; padding-right: 1em; text-align: center; vertical-align: top\">214</td>\n",
       "    </tr>\n",
       "    <tr>\n",
       "        <td style=\"padding-left: 1em; padding-right: 1em; text-align: center; vertical-align: top\">9757</td>\n",
       "        <td style=\"padding-left: 1em; padding-right: 1em; text-align: center; vertical-align: top\">102</td>\n",
       "        <td style=\"padding-left: 1em; padding-right: 1em; text-align: center; vertical-align: top\">7093</td>\n",
       "        <td style=\"padding-left: 1em; padding-right: 1em; text-align: center; vertical-align: top\">CO</td>\n",
       "        <td style=\"padding-left: 1em; padding-right: 1em; text-align: center; vertical-align: top\">702</td>\n",
       "        <td style=\"padding-left: 1em; padding-right: 1em; text-align: center; vertical-align: top\">6665</td>\n",
       "        <td style=\"padding-left: 1em; padding-right: 1em; text-align: center; vertical-align: top\">16850</td>\n",
       "        <td style=\"padding-left: 1em; padding-right: 1em; text-align: center; vertical-align: top\">177</td>\n",
       "    </tr>\n",
       "    <tr>\n",
       "        <td style=\"padding-left: 1em; padding-right: 1em; text-align: center; vertical-align: top\">9346</td>\n",
       "        <td style=\"padding-left: 1em; padding-right: 1em; text-align: center; vertical-align: top\">64</td>\n",
       "        <td style=\"padding-left: 1em; padding-right: 1em; text-align: center; vertical-align: top\">6637</td>\n",
       "        <td style=\"padding-left: 1em; padding-right: 1em; text-align: center; vertical-align: top\">CO</td>\n",
       "        <td style=\"padding-left: 1em; padding-right: 1em; text-align: center; vertical-align: top\">562</td>\n",
       "        <td style=\"padding-left: 1em; padding-right: 1em; text-align: center; vertical-align: top\">5947</td>\n",
       "        <td style=\"padding-left: 1em; padding-right: 1em; text-align: center; vertical-align: top\">15983</td>\n",
       "        <td style=\"padding-left: 1em; padding-right: 1em; text-align: center; vertical-align: top\">194</td>\n",
       "    </tr>\n",
       "    <tr>\n",
       "        <td style=\"padding-left: 1em; padding-right: 1em; text-align: center; vertical-align: top\">9299</td>\n",
       "        <td style=\"padding-left: 1em; padding-right: 1em; text-align: center; vertical-align: top\">78</td>\n",
       "        <td style=\"padding-left: 1em; padding-right: 1em; text-align: center; vertical-align: top\">6910</td>\n",
       "        <td style=\"padding-left: 1em; padding-right: 1em; text-align: center; vertical-align: top\">CO</td>\n",
       "        <td style=\"padding-left: 1em; padding-right: 1em; text-align: center; vertical-align: top\">543</td>\n",
       "        <td style=\"padding-left: 1em; padding-right: 1em; text-align: center; vertical-align: top\">6178</td>\n",
       "        <td style=\"padding-left: 1em; padding-right: 1em; text-align: center; vertical-align: top\">16209</td>\n",
       "        <td style=\"padding-left: 1em; padding-right: 1em; text-align: center; vertical-align: top\">206</td>\n",
       "    </tr>\n",
       "    <tr>\n",
       "        <td style=\"padding-left: 1em; padding-right: 1em; text-align: center; vertical-align: top\">10070</td>\n",
       "        <td style=\"padding-left: 1em; padding-right: 1em; text-align: center; vertical-align: top\">78</td>\n",
       "        <td style=\"padding-left: 1em; padding-right: 1em; text-align: center; vertical-align: top\">6661</td>\n",
       "        <td style=\"padding-left: 1em; padding-right: 1em; text-align: center; vertical-align: top\">CO</td>\n",
       "        <td style=\"padding-left: 1em; padding-right: 1em; text-align: center; vertical-align: top\">643</td>\n",
       "        <td style=\"padding-left: 1em; padding-right: 1em; text-align: center; vertical-align: top\">6284</td>\n",
       "        <td style=\"padding-left: 1em; padding-right: 1em; text-align: center; vertical-align: top\">16731</td>\n",
       "        <td style=\"padding-left: 1em; padding-right: 1em; text-align: center; vertical-align: top\">188</td>\n",
       "    </tr>\n",
       "    <tr>\n",
       "        <td style=\"padding-left: 1em; padding-right: 1em; text-align: center; vertical-align: top\">9941</td>\n",
       "        <td style=\"padding-left: 1em; padding-right: 1em; text-align: center; vertical-align: top\">66</td>\n",
       "        <td style=\"padding-left: 1em; padding-right: 1em; text-align: center; vertical-align: top\">6895</td>\n",
       "        <td style=\"padding-left: 1em; padding-right: 1em; text-align: center; vertical-align: top\">CO</td>\n",
       "        <td style=\"padding-left: 1em; padding-right: 1em; text-align: center; vertical-align: top\">501</td>\n",
       "        <td style=\"padding-left: 1em; padding-right: 1em; text-align: center; vertical-align: top\">5924</td>\n",
       "        <td style=\"padding-left: 1em; padding-right: 1em; text-align: center; vertical-align: top\">16836</td>\n",
       "        <td style=\"padding-left: 1em; padding-right: 1em; text-align: center; vertical-align: top\">163</td>\n",
       "    </tr>\n",
       "    <tr>\n",
       "        <td style=\"padding-left: 1em; padding-right: 1em; text-align: center; vertical-align: top\">6773</td>\n",
       "        <td style=\"padding-left: 1em; padding-right: 1em; text-align: center; vertical-align: top\">85</td>\n",
       "        <td style=\"padding-left: 1em; padding-right: 1em; text-align: center; vertical-align: top\">5633</td>\n",
       "        <td style=\"padding-left: 1em; padding-right: 1em; text-align: center; vertical-align: top\">CO</td>\n",
       "        <td style=\"padding-left: 1em; padding-right: 1em; text-align: center; vertical-align: top\">462</td>\n",
       "        <td style=\"padding-left: 1em; padding-right: 1em; text-align: center; vertical-align: top\">5268</td>\n",
       "        <td style=\"padding-left: 1em; padding-right: 1em; text-align: center; vertical-align: top\">12406</td>\n",
       "        <td style=\"padding-left: 1em; padding-right: 1em; text-align: center; vertical-align: top\">147</td>\n",
       "    </tr>\n",
       "    <tr>\n",
       "        <td style=\"padding-left: 1em; padding-right: 1em; text-align: center; vertical-align: top\">9029</td>\n",
       "        <td style=\"padding-left: 1em; padding-right: 1em; text-align: center; vertical-align: top\">70</td>\n",
       "        <td style=\"padding-left: 1em; padding-right: 1em; text-align: center; vertical-align: top\">6618</td>\n",
       "        <td style=\"padding-left: 1em; padding-right: 1em; text-align: center; vertical-align: top\">CO</td>\n",
       "        <td style=\"padding-left: 1em; padding-right: 1em; text-align: center; vertical-align: top\">489</td>\n",
       "        <td style=\"padding-left: 1em; padding-right: 1em; text-align: center; vertical-align: top\">5610</td>\n",
       "        <td style=\"padding-left: 1em; padding-right: 1em; text-align: center; vertical-align: top\">15647</td>\n",
       "        <td style=\"padding-left: 1em; padding-right: 1em; text-align: center; vertical-align: top\">190</td>\n",
       "    </tr>\n",
       "    <tr>\n",
       "        <td style=\"padding-left: 1em; padding-right: 1em; text-align: center; vertical-align: top\">10099</td>\n",
       "        <td style=\"padding-left: 1em; padding-right: 1em; text-align: center; vertical-align: top\">68</td>\n",
       "        <td style=\"padding-left: 1em; padding-right: 1em; text-align: center; vertical-align: top\">6614</td>\n",
       "        <td style=\"padding-left: 1em; padding-right: 1em; text-align: center; vertical-align: top\">CO</td>\n",
       "        <td style=\"padding-left: 1em; padding-right: 1em; text-align: center; vertical-align: top\">555</td>\n",
       "        <td style=\"padding-left: 1em; padding-right: 1em; text-align: center; vertical-align: top\">6084</td>\n",
       "        <td style=\"padding-left: 1em; padding-right: 1em; text-align: center; vertical-align: top\">16713</td>\n",
       "        <td style=\"padding-left: 1em; padding-right: 1em; text-align: center; vertical-align: top\">176</td>\n",
       "    </tr>\n",
       "    <tr>\n",
       "        <td style=\"padding-left: 1em; padding-right: 1em; text-align: center; vertical-align: top\">9477</td>\n",
       "        <td style=\"padding-left: 1em; padding-right: 1em; text-align: center; vertical-align: top\">70</td>\n",
       "        <td style=\"padding-left: 1em; padding-right: 1em; text-align: center; vertical-align: top\">6442</td>\n",
       "        <td style=\"padding-left: 1em; padding-right: 1em; text-align: center; vertical-align: top\">CO</td>\n",
       "        <td style=\"padding-left: 1em; padding-right: 1em; text-align: center; vertical-align: top\">559</td>\n",
       "        <td style=\"padding-left: 1em; padding-right: 1em; text-align: center; vertical-align: top\">5838</td>\n",
       "        <td style=\"padding-left: 1em; padding-right: 1em; text-align: center; vertical-align: top\">15919</td>\n",
       "        <td style=\"padding-left: 1em; padding-right: 1em; text-align: center; vertical-align: top\">247</td>\n",
       "    </tr>\n",
       "</table>\n",
       "<table frame=\"box\" rules=\"cols\">\n",
       "    <tr>\n",
       "        <th style=\"padding-left: 1em; padding-right: 1em; text-align: center\">Week</th>\n",
       "        <th style=\"padding-left: 1em; padding-right: 1em; text-align: center\">Net sales</th>\n",
       "        <th style=\"padding-left: 1em; padding-right: 1em; text-align: center\">Start date</th>\n",
       "        <th style=\"padding-left: 1em; padding-right: 1em; text-align: center\">End date</th>\n",
       "    </tr>\n",
       "    <tr>\n",
       "        <td style=\"padding-left: 1em; padding-right: 1em; text-align: center; vertical-align: top\">1</td>\n",
       "        <td style=\"padding-left: 1em; padding-right: 1em; text-align: center; vertical-align: top\">65174.24</td>\n",
       "        <td style=\"padding-left: 1em; padding-right: 1em; text-align: center; vertical-align: top\">9-4</td>\n",
       "        <td style=\"padding-left: 1em; padding-right: 1em; text-align: center; vertical-align: top\">9-10</td>\n",
       "    </tr>\n",
       "    <tr>\n",
       "        <td style=\"padding-left: 1em; padding-right: 1em; text-align: center; vertical-align: top\">2</td>\n",
       "        <td style=\"padding-left: 1em; padding-right: 1em; text-align: center; vertical-align: top\">63243.05</td>\n",
       "        <td style=\"padding-left: 1em; padding-right: 1em; text-align: center; vertical-align: top\">9-11</td>\n",
       "        <td style=\"padding-left: 1em; padding-right: 1em; text-align: center; vertical-align: top\">9-17</td>\n",
       "    </tr>\n",
       "    <tr>\n",
       "        <td style=\"padding-left: 1em; padding-right: 1em; text-align: center; vertical-align: top\">3</td>\n",
       "        <td style=\"padding-left: 1em; padding-right: 1em; text-align: center; vertical-align: top\">61448.94</td>\n",
       "        <td style=\"padding-left: 1em; padding-right: 1em; text-align: center; vertical-align: top\">9-18</td>\n",
       "        <td style=\"padding-left: 1em; padding-right: 1em; text-align: center; vertical-align: top\">9-24</td>\n",
       "    </tr>\n",
       "    <tr>\n",
       "        <td style=\"padding-left: 1em; padding-right: 1em; text-align: center; vertical-align: top\">4</td>\n",
       "        <td style=\"padding-left: 1em; padding-right: 1em; text-align: center; vertical-align: top\">57884.06</td>\n",
       "        <td style=\"padding-left: 1em; padding-right: 1em; text-align: center; vertical-align: top\">9-25</td>\n",
       "        <td style=\"padding-left: 1em; padding-right: 1em; text-align: center; vertical-align: top\">10-1</td>\n",
       "    </tr>\n",
       "    <tr>\n",
       "        <td style=\"padding-left: 1em; padding-right: 1em; text-align: center; vertical-align: top\">5</td>\n",
       "        <td style=\"padding-left: 1em; padding-right: 1em; text-align: center; vertical-align: top\">67352.11</td>\n",
       "        <td style=\"padding-left: 1em; padding-right: 1em; text-align: center; vertical-align: top\">10-2</td>\n",
       "        <td style=\"padding-left: 1em; padding-right: 1em; text-align: center; vertical-align: top\">10-8</td>\n",
       "    </tr>\n",
       "    <tr>\n",
       "        <td style=\"padding-left: 1em; padding-right: 1em; text-align: center; vertical-align: top\">6</td>\n",
       "        <td style=\"padding-left: 1em; padding-right: 1em; text-align: center; vertical-align: top\">63419.34</td>\n",
       "        <td style=\"padding-left: 1em; padding-right: 1em; text-align: center; vertical-align: top\">10-9</td>\n",
       "        <td style=\"padding-left: 1em; padding-right: 1em; text-align: center; vertical-align: top\">10-15</td>\n",
       "    </tr>\n",
       "    <tr>\n",
       "        <td style=\"padding-left: 1em; padding-right: 1em; text-align: center; vertical-align: top\">7</td>\n",
       "        <td style=\"padding-left: 1em; padding-right: 1em; text-align: center; vertical-align: top\">64789.54</td>\n",
       "        <td style=\"padding-left: 1em; padding-right: 1em; text-align: center; vertical-align: top\">10-16</td>\n",
       "        <td style=\"padding-left: 1em; padding-right: 1em; text-align: center; vertical-align: top\">10-22</td>\n",
       "    </tr>\n",
       "    <tr>\n",
       "        <td style=\"padding-left: 1em; padding-right: 1em; text-align: center; vertical-align: top\">8</td>\n",
       "        <td style=\"padding-left: 1em; padding-right: 1em; text-align: center; vertical-align: top\">61786.89</td>\n",
       "        <td style=\"padding-left: 1em; padding-right: 1em; text-align: center; vertical-align: top\">10-23</td>\n",
       "        <td style=\"padding-left: 1em; padding-right: 1em; text-align: center; vertical-align: top\">10-29</td>\n",
       "    </tr>\n",
       "    <tr>\n",
       "        <td style=\"padding-left: 1em; padding-right: 1em; text-align: center; vertical-align: top\">9</td>\n",
       "        <td style=\"padding-left: 1em; padding-right: 1em; text-align: center; vertical-align: top\">61701.68</td>\n",
       "        <td style=\"padding-left: 1em; padding-right: 1em; text-align: center; vertical-align: top\">10-30</td>\n",
       "        <td style=\"padding-left: 1em; padding-right: 1em; text-align: center; vertical-align: top\">11-5</td>\n",
       "    </tr>\n",
       "    <tr>\n",
       "        <td style=\"padding-left: 1em; padding-right: 1em; text-align: center; vertical-align: top\">10</td>\n",
       "        <td style=\"padding-left: 1em; padding-right: 1em; text-align: center; vertical-align: top\">54512.16</td>\n",
       "        <td style=\"padding-left: 1em; padding-right: 1em; text-align: center; vertical-align: top\">11-6</td>\n",
       "        <td style=\"padding-left: 1em; padding-right: 1em; text-align: center; vertical-align: top\">11-12</td>\n",
       "    </tr>\n",
       "</table>\n",
       "[40 rows x 19 columns]<br/>Note: Only the head of the SFrame is printed.<br/>You can use print_rows(num_rows=m, num_columns=n) to print more rows and columns.\n",
       "</div>"
      ],
      "text/plain": [
       "Columns:\n",
       "\tAddress\tstr\n",
       "\tBusiness name\tstr\n",
       "\tCity\tstr\n",
       "\tCountry\tstr\n",
       "\tDirect searches\tint\n",
       "\tDirections actions\tint\n",
       "\tDiscovery searches\tint\n",
       "\tMaps views\tint\n",
       "\tPhone call actions\tint\n",
       "\tSearch views\tint\n",
       "\tState\tstr\n",
       "\tTotal actions\tint\n",
       "\tTotal searches\tint\n",
       "\tTotal views\tint\n",
       "\tWebsite actions\tint\n",
       "\tWeek\tint\n",
       "\tNet sales\tfloat\n",
       "\tStart date\tstr\n",
       "\tEnd date\tstr\n",
       "\n",
       "Rows: 40\n",
       "\n",
       "Data:\n",
       "+---------------------------+-----------------------+--------+---------+-----------------+\n",
       "|          Address          |     Business name     |  City  | Country | Direct searches |\n",
       "+---------------------------+-----------------------+--------+---------+-----------------+\n",
       "| 5601 Olde Wadsworth Blvd. | Homegrown Tap & Dough | Arvada |    US   |       674       |\n",
       "| 5601 Olde Wadsworth Blvd. | Homegrown Tap & Dough | Arvada |    US   |       677       |\n",
       "| 5601 Olde Wadsworth Blvd. | Homegrown Tap & Dough | Arvada |    US   |       639       |\n",
       "| 5601 Olde Wadsworth Blvd. | Homegrown Tap & Dough | Arvada |    US   |       694       |\n",
       "| 5601 Olde Wadsworth Blvd. | Homegrown Tap & Dough | Arvada |    US   |       694       |\n",
       "| 5601 Olde Wadsworth Blvd. | Homegrown Tap & Dough | Arvada |    US   |       634       |\n",
       "| 5601 Olde Wadsworth Blvd. | Homegrown Tap & Dough | Arvada |    US   |       512       |\n",
       "| 5601 Olde Wadsworth Blvd. | Homegrown Tap & Dough | Arvada |    US   |       714       |\n",
       "| 5601 Olde Wadsworth Blvd. | Homegrown Tap & Dough | Arvada |    US   |       606       |\n",
       "| 5601 Olde Wadsworth Blvd. | Homegrown Tap & Dough | Arvada |    US   |       755       |\n",
       "+---------------------------+-----------------------+--------+---------+-----------------+\n",
       "+--------------------+--------------------+------------+--------------------+\n",
       "| Directions actions | Discovery searches | Maps views | Phone call actions |\n",
       "+--------------------+--------------------+------------+--------------------+\n",
       "|        333         |        5571        |    9586    |         74         |\n",
       "|        423         |        5988        |    9757    |        102         |\n",
       "|        304         |        5308        |    9346    |         64         |\n",
       "|        259         |        5484        |    9299    |         78         |\n",
       "|        377         |        5590        |   10070    |         78         |\n",
       "|        272         |        5290        |    9941    |         66         |\n",
       "|        230         |        4756        |    6773    |         85         |\n",
       "|        229         |        4896        |    9029    |         70         |\n",
       "|        311         |        5478        |   10099    |         68         |\n",
       "|        242         |        5083        |    9477    |         70         |\n",
       "+--------------------+--------------------+------------+--------------------+\n",
       "+--------------+-------+---------------+----------------+-------------+-----------------+\n",
       "| Search views | State | Total actions | Total searches | Total views | Website actions |\n",
       "+--------------+-------+---------------+----------------+-------------+-----------------+\n",
       "|     7026     |   CO  |      621      |      6245      |    16612    |       214       |\n",
       "|     7093     |   CO  |      702      |      6665      |    16850    |       177       |\n",
       "|     6637     |   CO  |      562      |      5947      |    15983    |       194       |\n",
       "|     6910     |   CO  |      543      |      6178      |    16209    |       206       |\n",
       "|     6661     |   CO  |      643      |      6284      |    16731    |       188       |\n",
       "|     6895     |   CO  |      501      |      5924      |    16836    |       163       |\n",
       "|     5633     |   CO  |      462      |      5268      |    12406    |       147       |\n",
       "|     6618     |   CO  |      489      |      5610      |    15647    |       190       |\n",
       "|     6614     |   CO  |      555      |      6084      |    16713    |       176       |\n",
       "|     6442     |   CO  |      559      |      5838      |    15919    |       247       |\n",
       "+--------------+-------+---------------+----------------+-------------+-----------------+\n",
       "+------+-----------+------------+----------+\n",
       "| Week | Net sales | Start date | End date |\n",
       "+------+-----------+------------+----------+\n",
       "|  1   |  65174.24 |    9-4     |   9-10   |\n",
       "|  2   |  63243.05 |    9-11    |   9-17   |\n",
       "|  3   |  61448.94 |    9-18    |   9-24   |\n",
       "|  4   |  57884.06 |    9-25    |   10-1   |\n",
       "|  5   |  67352.11 |    10-2    |   10-8   |\n",
       "|  6   |  63419.34 |    10-9    |  10-15   |\n",
       "|  7   |  64789.54 |   10-16    |  10-22   |\n",
       "|  8   |  61786.89 |   10-23    |  10-29   |\n",
       "|  9   |  61701.68 |   10-30    |   11-5   |\n",
       "|  10  |  54512.16 |    11-6    |  11-12   |\n",
       "+------+-----------+------------+----------+\n",
       "[40 rows x 19 columns]\n",
       "Note: Only the head of the SFrame is printed.\n",
       "You can use print_rows(num_rows=m, num_columns=n) to print more rows and columns."
      ]
     },
     "execution_count": 3,
     "metadata": {},
     "output_type": "execute_result"
    }
   ],
   "source": [
    "data = gl.SFrame(sales)\n",
    "data"
   ]
  },
  {
   "cell_type": "code",
   "execution_count": 4,
   "metadata": {
    "collapsed": false
   },
   "outputs": [
    {
     "data": {
      "text/plain": [
       "(40, 19)"
      ]
     },
     "execution_count": 4,
     "metadata": {},
     "output_type": "execute_result"
    }
   ],
   "source": [
    "data['Net sales'] = data['Net sales'].astype(float)\n",
    "data.shape"
   ]
  },
  {
   "cell_type": "code",
   "execution_count": 5,
   "metadata": {
    "collapsed": false
   },
   "outputs": [],
   "source": [
    "#dat = data[25:30].append(data[32:41])\n",
    "#data[25:32]"
   ]
  },
  {
   "cell_type": "markdown",
   "metadata": {
    "collapsed": false
   },
   "source": [
    "## Subset data to training and testing sets"
   ]
  },
  {
   "cell_type": "code",
   "execution_count": 6,
   "metadata": {
    "collapsed": false
   },
   "outputs": [],
   "source": [
    "train_data, test_data = data.random_split(.8, seed = 0)\n",
    "valid_data, testing_data = test_data.random_split(.5, seed = 0)"
   ]
  },
  {
   "cell_type": "code",
   "execution_count": 7,
   "metadata": {
    "collapsed": true
   },
   "outputs": [],
   "source": [
    "# remove useless variables"
   ]
  },
  {
   "cell_type": "code",
   "execution_count": 8,
   "metadata": {
    "collapsed": false
   },
   "outputs": [],
   "source": [
    "reg_data_train = train_data.remove_columns(['Address', 'Business name', 'City', 'State', 'Country', 'Week', 'Start date', 'End date'])\n",
    "reg_data_valid = valid_data.remove_columns(['Address', 'Business name', 'City', 'State', 'Country', 'Week', 'Start date', 'End date'])\n",
    "reg_data_test = test_data.remove_columns(['Address', 'Business name', 'City', 'State', 'Country', 'Week', 'Start date', 'End date'])"
   ]
  },
  {
   "cell_type": "code",
   "execution_count": 9,
   "metadata": {
    "collapsed": false
   },
   "outputs": [
    {
     "data": {
      "application/javascript": [
       "$(\"head\").append($(\"<link/>\").attr({\n",
       "  rel:  \"stylesheet\",\n",
       "  type: \"text/css\",\n",
       "  href: \"//cdnjs.cloudflare.com/ajax/libs/font-awesome/4.1.0/css/font-awesome.min.css\"\n",
       "}));\n",
       "$(\"head\").append($(\"<link/>\").attr({\n",
       "  rel:  \"stylesheet\",\n",
       "  type: \"text/css\",\n",
       "  href: \"https://static.turi.com/products/graphlab-create/2.1/canvas/css/canvas.css\"\n",
       "}));\n",
       "\n",
       "            (function(){\n",
       "\n",
       "                var e = null;\n",
       "                if (typeof element == 'undefined') {\n",
       "                    var scripts = document.getElementsByTagName('script');\n",
       "                    var thisScriptTag = scripts[scripts.length-1];\n",
       "                    var parentDiv = thisScriptTag.parentNode;\n",
       "                    e = document.createElement('div');\n",
       "                    parentDiv.appendChild(e);\n",
       "                } else {\n",
       "                    e = element[0];\n",
       "                }\n",
       "\n",
       "                if (typeof requirejs !== 'undefined') {\n",
       "                    // disable load timeout; ipython_app.js is large and can take a while to load.\n",
       "                    requirejs.config({waitSeconds: 0});\n",
       "                }\n",
       "\n",
       "                require(['https://static.turi.com/products/graphlab-create/2.1/canvas/js/ipython_app.js'], function(IPythonApp){\n",
       "                    var app = new IPythonApp();\n",
       "                    app.attachView('sframe','Summary', {\"ipython\": true, \"sketch\": {\"Net sales\": {\"std\": 6091.091976672127, \"complete\": true, \"min\": 50329.33, \"max\": 73617.76, \"quantile\": [50329.33, 50329.33, 50329.33, 51901.89, 51901.89, 51901.89, 53009.09, 53009.09, 53009.09, 53046.21, 53046.21, 53046.21, 53465.24, 53465.24, 53465.24, 54062.49, 54062.49, 54062.49, 54228.71, 54228.71, 54228.71, 54446.81, 54446.81, 54446.81, 54512.16, 54512.16, 54512.16, 55234.57, 55234.57, 55234.57, 55500.28, 55500.28, 55500.28, 57123.56, 57123.56, 57123.56, 57330.43, 57330.43, 57330.43, 57884.06, 57884.06, 57884.06, 59664.81, 59664.81, 59664.81, 61448.94, 61448.94, 61448.94, 61701.68, 61701.68, 61786.89, 61786.89, 61786.89, 63243.05, 63243.05, 63243.05, 63419.34, 63419.34, 63419.34, 63441.56, 63441.56, 63441.56, 63543.42, 63543.42, 63543.42, 63672.78, 63672.78, 63672.78, 64789.54, 64789.54, 64789.54, 65174.24, 65174.24, 65174.24, 65309.87, 65309.87, 65309.87, 65598.17, 65598.17, 65598.17, 66190.29, 66190.29, 66190.29, 67352.11, 67352.11, 67352.11, 67554.47, 67554.47, 67554.47, 67981.38, 67981.38, 67981.38, 68220.23, 68220.23, 68220.23, 72219.86, 72219.86, 72219.86, 73617.76, 73617.76, 73617.76], \"median\": 61786.89, \"numeric\": true, \"num_unique\": 34, \"num_undefined\": 0, \"var\": 37101401.46827956, \"progress\": 1.0, \"size\": 34, \"frequent_items\": {\"61786.89\": {\"frequency\": 1, \"value\": 61786.89}, \"63419.34\": {\"frequency\": 1, \"value\": 63419.34}, \"67352.11\": {\"frequency\": 1, \"value\": 67352.11}, \"63672.78\": {\"frequency\": 1, \"value\": 63672.78}, \"66190.29\": {\"frequency\": 1, \"value\": 66190.29}, \"67554.47\": {\"frequency\": 1, \"value\": 67554.47}, \"63441.56\": {\"frequency\": 1, \"value\": 63441.56}, \"65174.24\": {\"frequency\": 1, \"value\": 65174.24}, \"64789.54\": {\"frequency\": 1, \"value\": 64789.54}, \"53009.09\": {\"frequency\": 1, \"value\": 53009.09}, \"53465.24\": {\"frequency\": 1, \"value\": 53465.24}, \"73617.76\": {\"frequency\": 1, \"value\": 73617.76}, \"57884.06\": {\"frequency\": 1, \"value\": 57884.06}, \"65309.87\": {\"frequency\": 1, \"value\": 65309.87}, \"61701.68\": {\"frequency\": 1, \"value\": 61701.68}, \"57123.56\": {\"frequency\": 1, \"value\": 57123.56}, \"54062.49\": {\"frequency\": 1, \"value\": 54062.49}, \"59664.81\": {\"frequency\": 1, \"value\": 59664.81}, \"72219.86\": {\"frequency\": 1, \"value\": 72219.86}, \"63543.42\": {\"frequency\": 1, \"value\": 63543.42}, \"53046.21\": {\"frequency\": 1, \"value\": 53046.21}, \"61448.94\": {\"frequency\": 1, \"value\": 61448.94}, \"55500.28\": {\"frequency\": 1, \"value\": 55500.28}, \"68220.23\": {\"frequency\": 1, \"value\": 68220.23}, \"54512.16\": {\"frequency\": 1, \"value\": 54512.16}, \"54228.71\": {\"frequency\": 1, \"value\": 54228.71}, \"63243.05\": {\"frequency\": 1, \"value\": 63243.05}, \"67981.38\": {\"frequency\": 1, \"value\": 67981.38}, \"51901.89\": {\"frequency\": 1, \"value\": 51901.89}, \"50329.33\": {\"frequency\": 1, \"value\": 50329.33}, \"55234.57\": {\"frequency\": 1, \"value\": 55234.57}, \"54446.81\": {\"frequency\": 1, \"value\": 54446.81}, \"57330.43\": {\"frequency\": 1, \"value\": 57330.43}, \"65598.17\": {\"frequency\": 1, \"value\": 65598.17}}, \"mean\": 60823.68294117648}, \"Search views\": {\"std\": 737.8633191056869, \"complete\": true, \"min\": 5633.0, \"max\": 8642.0, \"quantile\": [5633.0, 5633.0, 5633.0, 5744.0, 5744.0, 5744.0, 6303.0, 6303.0, 6303.0, 6442.0, 6442.0, 6442.0, 6470.0, 6470.0, 6470.0, 6567.0, 6567.0, 6567.0, 6614.0, 6614.0, 6614.0, 6618.0, 6618.0, 6618.0, 6637.0, 6637.0, 6637.0, 6643.0, 6643.0, 6643.0, 6661.0, 6661.0, 6661.0, 6818.0, 6818.0, 6818.0, 6825.0, 6825.0, 6825.0, 6895.0, 6895.0, 6895.0, 6910.0, 6910.0, 6910.0, 7026.0, 7026.0, 7026.0, 7093.0, 7093.0, 7171.0, 7171.0, 7171.0, 7172.0, 7172.0, 7172.0, 7227.0, 7227.0, 7227.0, 7275.0, 7275.0, 7275.0, 7362.0, 7362.0, 7362.0, 7385.0, 7385.0, 7385.0, 7572.0, 7572.0, 7572.0, 7712.0, 7712.0, 7712.0, 7747.0, 7747.0, 7747.0, 7927.0, 7927.0, 7927.0, 7962.0, 7962.0, 7962.0, 8011.0, 8011.0, 8011.0, 8068.0, 8068.0, 8068.0, 8200.0, 8200.0, 8200.0, 8432.0, 8432.0, 8432.0, 8481.0, 8481.0, 8481.0, 8642.0, 8642.0, 8642.0], \"median\": 7171.0, \"numeric\": true, \"num_unique\": 34, \"num_undefined\": 0, \"var\": 544442.2776816606, \"progress\": 1.0, \"size\": 34, \"frequent_items\": {\"5633\": {\"frequency\": 1, \"value\": 5633}, \"7171\": {\"frequency\": 1, \"value\": 7171}, \"7172\": {\"frequency\": 1, \"value\": 7172}, \"6661\": {\"frequency\": 1, \"value\": 6661}, \"8200\": {\"frequency\": 1, \"value\": 8200}, \"8642\": {\"frequency\": 1, \"value\": 8642}, \"7572\": {\"frequency\": 1, \"value\": 7572}, \"8068\": {\"frequency\": 1, \"value\": 8068}, \"7962\": {\"frequency\": 1, \"value\": 7962}, \"6303\": {\"frequency\": 1, \"value\": 6303}, \"7712\": {\"frequency\": 1, \"value\": 7712}, \"8481\": {\"frequency\": 1, \"value\": 8481}, \"6818\": {\"frequency\": 1, \"value\": 6818}, \"6567\": {\"frequency\": 1, \"value\": 6567}, \"6825\": {\"frequency\": 1, \"value\": 6825}, \"6442\": {\"frequency\": 1, \"value\": 6442}, \"8432\": {\"frequency\": 1, \"value\": 8432}, \"7093\": {\"frequency\": 1, \"value\": 7093}, \"7227\": {\"frequency\": 1, \"value\": 7227}, \"7362\": {\"frequency\": 1, \"value\": 7362}, \"7747\": {\"frequency\": 1, \"value\": 7747}, \"6470\": {\"frequency\": 1, \"value\": 6470}, \"8011\": {\"frequency\": 1, \"value\": 8011}, \"6614\": {\"frequency\": 1, \"value\": 6614}, \"7385\": {\"frequency\": 1, \"value\": 7385}, \"6618\": {\"frequency\": 1, \"value\": 6618}, \"7275\": {\"frequency\": 1, \"value\": 7275}, \"6637\": {\"frequency\": 1, \"value\": 6637}, \"6895\": {\"frequency\": 1, \"value\": 6895}, \"5744\": {\"frequency\": 1, \"value\": 5744}, \"7026\": {\"frequency\": 1, \"value\": 7026}, \"6643\": {\"frequency\": 1, \"value\": 6643}, \"7927\": {\"frequency\": 1, \"value\": 7927}, \"6910\": {\"frequency\": 1, \"value\": 6910}}, \"mean\": 7183.676470588236}, \"Directions actions\": {\"std\": 58.40940253502228, \"complete\": true, \"min\": 229.0, \"max\": 475.0, \"quantile\": [229.0, 229.0, 229.0, 230.0, 230.0, 230.0, 242.0, 242.0, 242.0, 250.0, 250.0, 250.0, 256.0, 256.0, 256.0, 259.0, 259.0, 259.0, 272.0, 272.0, 272.0, 287.0, 287.0, 287.0, 291.0, 291.0, 291.0, 303.0, 303.0, 303.0, 304.0, 304.0, 304.0, 305.0, 305.0, 305.0, 311.0, 311.0, 311.0, 312.0, 312.0, 312.0, 318.0, 318.0, 318.0, 324.0, 324.0, 324.0, 327.0, 327.0, 331.0, 331.0, 331.0, 333.0, 333.0, 333.0, 336.0, 336.0, 336.0, 345.0, 345.0, 345.0, 352.0, 352.0, 352.0, 358.0, 358.0, 358.0, 360.0, 360.0, 360.0, 367.0, 367.0, 367.0, 373.0, 373.0, 373.0, 377.0, 377.0, 377.0, 381.0, 381.0, 381.0, 382.0, 382.0, 382.0, 394.0, 394.0, 394.0, 399.0, 399.0, 399.0, 423.0, 423.0, 423.0, 429.0, 429.0, 429.0, 475.0, 475.0, 475.0], \"median\": 331.0, \"numeric\": true, \"num_unique\": 34, \"num_undefined\": 0, \"var\": 3411.658304498267, \"progress\": 1.0, \"size\": 34, \"frequent_items\": {\"256\": {\"frequency\": 1, \"value\": 256}, \"259\": {\"frequency\": 1, \"value\": 259}, \"358\": {\"frequency\": 1, \"value\": 358}, \"394\": {\"frequency\": 1, \"value\": 394}, \"399\": {\"frequency\": 1, \"value\": 399}, \"272\": {\"frequency\": 1, \"value\": 272}, \"287\": {\"frequency\": 1, \"value\": 287}, \"291\": {\"frequency\": 1, \"value\": 291}, \"423\": {\"frequency\": 1, \"value\": 423}, \"429\": {\"frequency\": 1, \"value\": 429}, \"303\": {\"frequency\": 1, \"value\": 303}, \"304\": {\"frequency\": 1, \"value\": 304}, \"305\": {\"frequency\": 1, \"value\": 305}, \"311\": {\"frequency\": 1, \"value\": 311}, \"312\": {\"frequency\": 1, \"value\": 312}, \"318\": {\"frequency\": 1, \"value\": 318}, \"324\": {\"frequency\": 1, \"value\": 324}, \"327\": {\"frequency\": 1, \"value\": 327}, \"331\": {\"frequency\": 1, \"value\": 331}, \"333\": {\"frequency\": 1, \"value\": 333}, \"336\": {\"frequency\": 1, \"value\": 336}, \"345\": {\"frequency\": 1, \"value\": 345}, \"475\": {\"frequency\": 1, \"value\": 475}, \"352\": {\"frequency\": 1, \"value\": 352}, \"229\": {\"frequency\": 1, \"value\": 229}, \"230\": {\"frequency\": 1, \"value\": 230}, \"360\": {\"frequency\": 1, \"value\": 360}, \"367\": {\"frequency\": 1, \"value\": 367}, \"242\": {\"frequency\": 1, \"value\": 242}, \"373\": {\"frequency\": 1, \"value\": 373}, \"377\": {\"frequency\": 1, \"value\": 377}, \"250\": {\"frequency\": 1, \"value\": 250}, \"381\": {\"frequency\": 1, \"value\": 381}, \"382\": {\"frequency\": 1, \"value\": 382}}, \"mean\": 330.4411764705883}, \"Direct searches\": {\"std\": 93.614782532731, \"complete\": true, \"min\": 488.0, \"max\": 869.0, \"quantile\": [488.0, 488.0, 488.0, 512.0, 512.0, 512.0, 564.0, 564.0, 564.0, 606.0, 606.0, 606.0, 620.0, 620.0, 620.0, 621.0, 621.0, 621.0, 626.0, 626.0, 626.0, 634.0, 634.0, 634.0, 639.0, 639.0, 639.0, 645.0, 645.0, 645.0, 648.0, 648.0, 648.0, 674.0, 674.0, 674.0, 677.0, 677.0, 677.0, 677.0, 677.0, 677.0, 681.0, 681.0, 681.0, 694.0, 694.0, 694.0, 694.0, 694.0, 696.0, 696.0, 696.0, 698.0, 698.0, 698.0, 714.0, 714.0, 714.0, 725.0, 725.0, 725.0, 742.0, 742.0, 742.0, 743.0, 743.0, 743.0, 755.0, 755.0, 755.0, 761.0, 761.0, 761.0, 762.0, 762.0, 762.0, 764.0, 764.0, 764.0, 802.0, 802.0, 802.0, 833.0, 833.0, 833.0, 838.0, 838.0, 838.0, 841.0, 841.0, 841.0, 843.0, 843.0, 843.0, 847.0, 847.0, 847.0, 869.0, 869.0, 869.0], \"median\": 696.0, \"numeric\": true, \"num_unique\": 32, \"num_undefined\": 0, \"var\": 8763.727508650518, \"progress\": 1.0, \"size\": 34, \"frequent_items\": {\"512\": {\"frequency\": 1, \"value\": 512}, \"645\": {\"frequency\": 1, \"value\": 645}, \"648\": {\"frequency\": 1, \"value\": 648}, \"674\": {\"frequency\": 1, \"value\": 674}, \"677\": {\"frequency\": 2, \"value\": 677}, \"681\": {\"frequency\": 1, \"value\": 681}, \"564\": {\"frequency\": 1, \"value\": 564}, \"694\": {\"frequency\": 2, \"value\": 694}, \"696\": {\"frequency\": 1, \"value\": 696}, \"698\": {\"frequency\": 1, \"value\": 698}, \"833\": {\"frequency\": 1, \"value\": 833}, \"838\": {\"frequency\": 1, \"value\": 838}, \"841\": {\"frequency\": 1, \"value\": 841}, \"714\": {\"frequency\": 1, \"value\": 714}, \"843\": {\"frequency\": 1, \"value\": 843}, \"802\": {\"frequency\": 1, \"value\": 802}, \"847\": {\"frequency\": 1, \"value\": 847}, \"725\": {\"frequency\": 1, \"value\": 725}, \"634\": {\"frequency\": 1, \"value\": 634}, \"606\": {\"frequency\": 1, \"value\": 606}, \"869\": {\"frequency\": 1, \"value\": 869}, \"742\": {\"frequency\": 1, \"value\": 742}, \"743\": {\"frequency\": 1, \"value\": 743}, \"488\": {\"frequency\": 1, \"value\": 488}, \"620\": {\"frequency\": 1, \"value\": 620}, \"621\": {\"frequency\": 1, \"value\": 621}, \"626\": {\"frequency\": 1, \"value\": 626}, \"755\": {\"frequency\": 1, \"value\": 755}, \"761\": {\"frequency\": 1, \"value\": 761}, \"762\": {\"frequency\": 1, \"value\": 762}, \"764\": {\"frequency\": 1, \"value\": 764}, \"639\": {\"frequency\": 1, \"value\": 639}}, \"mean\": 703.9117647058824}, \"Total views\": {\"std\": 2564.8972702469796, \"complete\": true, \"min\": 12406.0, \"max\": 23211.0, \"quantile\": [12406.0, 12406.0, 12406.0, 13765.0, 13765.0, 13765.0, 14161.0, 14161.0, 14161.0, 14778.0, 14778.0, 14778.0, 15590.0, 15590.0, 15590.0, 15619.0, 15619.0, 15619.0, 15647.0, 15647.0, 15647.0, 15919.0, 15919.0, 15919.0, 15983.0, 15983.0, 15983.0, 16209.0, 16209.0, 16209.0, 16376.0, 16376.0, 16376.0, 16577.0, 16577.0, 16577.0, 16612.0, 16612.0, 16612.0, 16713.0, 16713.0, 16713.0, 16720.0, 16720.0, 16720.0, 16731.0, 16731.0, 16731.0, 16836.0, 16836.0, 16850.0, 16850.0, 16850.0, 16947.0, 16947.0, 16947.0, 17136.0, 17136.0, 17136.0, 18038.0, 18038.0, 18038.0, 19116.0, 19116.0, 19116.0, 19168.0, 19168.0, 19168.0, 19499.0, 19499.0, 19499.0, 19816.0, 19816.0, 19816.0, 20302.0, 20302.0, 20302.0, 20348.0, 20348.0, 20348.0, 20506.0, 20506.0, 20506.0, 20722.0, 20722.0, 20722.0, 20917.0, 20917.0, 20917.0, 21029.0, 21029.0, 21029.0, 21037.0, 21037.0, 21037.0, 22468.0, 22468.0, 22468.0, 23211.0, 23211.0, 23211.0], \"median\": 16850.0, \"numeric\": true, \"num_unique\": 34, \"num_undefined\": 0, \"var\": 6578698.0069204075, \"progress\": 1.0, \"size\": 34, \"frequent_items\": {\"15619\": {\"frequency\": 1, \"value\": 15619}, \"22468\": {\"frequency\": 1, \"value\": 22468}, \"20506\": {\"frequency\": 1, \"value\": 20506}, \"15647\": {\"frequency\": 1, \"value\": 15647}, \"21029\": {\"frequency\": 1, \"value\": 21029}, \"19499\": {\"frequency\": 1, \"value\": 19499}, \"19116\": {\"frequency\": 1, \"value\": 19116}, \"21037\": {\"frequency\": 1, \"value\": 21037}, \"15919\": {\"frequency\": 1, \"value\": 15919}, \"16947\": {\"frequency\": 1, \"value\": 16947}, \"20917\": {\"frequency\": 1, \"value\": 20917}, \"14778\": {\"frequency\": 1, \"value\": 14778}, \"16577\": {\"frequency\": 1, \"value\": 16577}, \"16836\": {\"frequency\": 1, \"value\": 16836}, \"13765\": {\"frequency\": 1, \"value\": 13765}, \"16713\": {\"frequency\": 1, \"value\": 16713}, \"20302\": {\"frequency\": 1, \"value\": 20302}, \"16720\": {\"frequency\": 1, \"value\": 16720}, \"14161\": {\"frequency\": 1, \"value\": 14161}, \"16850\": {\"frequency\": 1, \"value\": 16850}, \"16731\": {\"frequency\": 1, \"value\": 16731}, \"12406\": {\"frequency\": 1, \"value\": 12406}, \"19168\": {\"frequency\": 1, \"value\": 19168}, \"16612\": {\"frequency\": 1, \"value\": 16612}, \"23211\": {\"frequency\": 1, \"value\": 23211}, \"15590\": {\"frequency\": 1, \"value\": 15590}, \"16209\": {\"frequency\": 1, \"value\": 16209}, \"19816\": {\"frequency\": 1, \"value\": 19816}, \"15983\": {\"frequency\": 1, \"value\": 15983}, \"17136\": {\"frequency\": 1, \"value\": 17136}, \"20722\": {\"frequency\": 1, \"value\": 20722}, \"18038\": {\"frequency\": 1, \"value\": 18038}, \"16376\": {\"frequency\": 1, \"value\": 16376}, \"20348\": {\"frequency\": 1, \"value\": 20348}}, \"mean\": 17757.41176470588}, \"Discovery searches\": {\"std\": 832.4507472155894, \"complete\": true, \"min\": 4170.0, \"max\": 7463.0, \"quantile\": [4170.0, 4170.0, 4170.0, 4534.0, 4534.0, 4534.0, 4756.0, 4756.0, 4756.0, 4829.0, 4829.0, 4829.0, 4896.0, 4896.0, 4896.0, 4933.0, 4933.0, 4933.0, 5083.0, 5083.0, 5083.0, 5237.0, 5237.0, 5237.0, 5241.0, 5241.0, 5241.0, 5277.0, 5277.0, 5277.0, 5290.0, 5290.0, 5290.0, 5308.0, 5308.0, 5308.0, 5468.0, 5468.0, 5468.0, 5478.0, 5478.0, 5478.0, 5484.0, 5484.0, 5484.0, 5571.0, 5571.0, 5571.0, 5590.0, 5590.0, 5659.0, 5659.0, 5659.0, 5793.0, 5793.0, 5793.0, 5873.0, 5873.0, 5873.0, 5988.0, 5988.0, 5988.0, 6029.0, 6029.0, 6029.0, 6456.0, 6456.0, 6456.0, 6502.0, 6502.0, 6502.0, 6520.0, 6520.0, 6520.0, 6664.0, 6664.0, 6664.0, 6674.0, 6674.0, 6674.0, 6679.0, 6679.0, 6679.0, 6726.0, 6726.0, 6726.0, 6791.0, 6791.0, 6791.0, 6868.0, 6868.0, 6868.0, 6983.0, 6983.0, 6983.0, 7354.0, 7354.0, 7354.0, 7463.0, 7463.0, 7463.0], \"median\": 5659.0, \"numeric\": true, \"num_unique\": 34, \"num_undefined\": 0, \"var\": 692974.2465397932, \"progress\": 1.0, \"size\": 34, \"frequent_items\": {\"6791\": {\"frequency\": 1, \"value\": 6791}, \"6664\": {\"frequency\": 1, \"value\": 6664}, \"6029\": {\"frequency\": 1, \"value\": 6029}, \"6674\": {\"frequency\": 1, \"value\": 6674}, \"4756\": {\"frequency\": 1, \"value\": 4756}, \"6679\": {\"frequency\": 1, \"value\": 6679}, \"5659\": {\"frequency\": 1, \"value\": 5659}, \"5277\": {\"frequency\": 1, \"value\": 5277}, \"4896\": {\"frequency\": 1, \"value\": 4896}, \"5793\": {\"frequency\": 1, \"value\": 5793}, \"7463\": {\"frequency\": 1, \"value\": 7463}, \"5290\": {\"frequency\": 1, \"value\": 5290}, \"4534\": {\"frequency\": 1, \"value\": 4534}, \"6456\": {\"frequency\": 1, \"value\": 6456}, \"7354\": {\"frequency\": 1, \"value\": 7354}, \"5308\": {\"frequency\": 1, \"value\": 5308}, \"5571\": {\"frequency\": 1, \"value\": 5571}, \"4933\": {\"frequency\": 1, \"value\": 4933}, \"6726\": {\"frequency\": 1, \"value\": 6726}, \"6983\": {\"frequency\": 1, \"value\": 6983}, \"4170\": {\"frequency\": 1, \"value\": 4170}, \"6868\": {\"frequency\": 1, \"value\": 6868}, \"5590\": {\"frequency\": 1, \"value\": 5590}, \"5083\": {\"frequency\": 1, \"value\": 5083}, \"5468\": {\"frequency\": 1, \"value\": 5468}, \"4829\": {\"frequency\": 1, \"value\": 4829}, \"5988\": {\"frequency\": 1, \"value\": 5988}, \"6502\": {\"frequency\": 1, \"value\": 6502}, \"5478\": {\"frequency\": 1, \"value\": 5478}, \"5484\": {\"frequency\": 1, \"value\": 5484}, \"5873\": {\"frequency\": 1, \"value\": 5873}, \"5237\": {\"frequency\": 1, \"value\": 5237}, \"6520\": {\"frequency\": 1, \"value\": 6520}, \"5241\": {\"frequency\": 1, \"value\": 5241}}, \"mean\": 5828.441176470588}, \"Website actions\": {\"std\": 80.84525352363637, \"complete\": true, \"min\": 147.0, \"max\": 382.0, \"quantile\": [147.0, 147.0, 147.0, 163.0, 163.0, 163.0, 170.0, 170.0, 170.0, 176.0, 176.0, 176.0, 176.0, 176.0, 176.0, 177.0, 177.0, 177.0, 183.0, 183.0, 183.0, 185.0, 185.0, 185.0, 188.0, 188.0, 188.0, 190.0, 190.0, 190.0, 193.0, 193.0, 193.0, 194.0, 194.0, 194.0, 198.0, 198.0, 198.0, 199.0, 199.0, 199.0, 206.0, 206.0, 206.0, 214.0, 214.0, 214.0, 216.0, 216.0, 247.0, 247.0, 247.0, 252.0, 252.0, 252.0, 253.0, 253.0, 253.0, 263.0, 263.0, 263.0, 330.0, 330.0, 330.0, 332.0, 332.0, 332.0, 336.0, 336.0, 336.0, 339.0, 339.0, 339.0, 341.0, 341.0, 341.0, 348.0, 348.0, 348.0, 356.0, 356.0, 356.0, 363.0, 363.0, 363.0, 376.0, 376.0, 376.0, 376.0, 376.0, 376.0, 376.0, 376.0, 376.0, 379.0, 379.0, 379.0, 382.0, 382.0, 382.0], \"median\": 247.0, \"numeric\": true, \"num_unique\": 31, \"num_undefined\": 0, \"var\": 6535.955017301038, \"progress\": 1.0, \"size\": 34, \"frequent_items\": {\"263\": {\"frequency\": 1, \"value\": 263}, \"147\": {\"frequency\": 1, \"value\": 147}, \"163\": {\"frequency\": 1, \"value\": 163}, \"170\": {\"frequency\": 1, \"value\": 170}, \"176\": {\"frequency\": 2, \"value\": 176}, \"177\": {\"frequency\": 1, \"value\": 177}, \"183\": {\"frequency\": 1, \"value\": 183}, \"185\": {\"frequency\": 1, \"value\": 185}, \"188\": {\"frequency\": 1, \"value\": 188}, \"190\": {\"frequency\": 1, \"value\": 190}, \"193\": {\"frequency\": 1, \"value\": 193}, \"194\": {\"frequency\": 1, \"value\": 194}, \"198\": {\"frequency\": 1, \"value\": 198}, \"199\": {\"frequency\": 1, \"value\": 199}, \"330\": {\"frequency\": 1, \"value\": 330}, \"332\": {\"frequency\": 1, \"value\": 332}, \"206\": {\"frequency\": 1, \"value\": 206}, \"336\": {\"frequency\": 1, \"value\": 336}, \"339\": {\"frequency\": 1, \"value\": 339}, \"341\": {\"frequency\": 1, \"value\": 341}, \"214\": {\"frequency\": 1, \"value\": 214}, \"216\": {\"frequency\": 1, \"value\": 216}, \"348\": {\"frequency\": 1, \"value\": 348}, \"356\": {\"frequency\": 1, \"value\": 356}, \"363\": {\"frequency\": 1, \"value\": 363}, \"247\": {\"frequency\": 1, \"value\": 247}, \"376\": {\"frequency\": 3, \"value\": 376}, \"379\": {\"frequency\": 1, \"value\": 379}, \"252\": {\"frequency\": 1, \"value\": 252}, \"253\": {\"frequency\": 1, \"value\": 253}, \"382\": {\"frequency\": 1, \"value\": 382}}, \"mean\": 259.5294117647059}, \"Total actions\": {\"std\": 130.34799377423823, \"complete\": true, \"min\": 462.0, \"max\": 963.0, \"quantile\": [462.0, 462.0, 462.0, 489.0, 489.0, 489.0, 497.0, 497.0, 497.0, 501.0, 501.0, 501.0, 537.0, 537.0, 537.0, 543.0, 543.0, 543.0, 547.0, 547.0, 547.0, 552.0, 552.0, 552.0, 555.0, 555.0, 555.0, 559.0, 559.0, 559.0, 562.0, 562.0, 562.0, 573.0, 573.0, 573.0, 574.0, 574.0, 574.0, 602.0, 602.0, 602.0, 621.0, 621.0, 621.0, 631.0, 631.0, 631.0, 643.0, 643.0, 645.0, 645.0, 645.0, 662.0, 662.0, 662.0, 685.0, 685.0, 685.0, 702.0, 702.0, 702.0, 712.0, 712.0, 712.0, 751.0, 751.0, 751.0, 769.0, 769.0, 769.0, 778.0, 778.0, 778.0, 806.0, 806.0, 806.0, 813.0, 813.0, 813.0, 817.0, 817.0, 817.0, 817.0, 817.0, 817.0, 831.0, 831.0, 831.0, 833.0, 833.0, 833.0, 844.0, 844.0, 844.0, 851.0, 851.0, 851.0, 963.0, 963.0, 963.0], \"median\": 645.0, \"numeric\": true, \"num_unique\": 33, \"num_undefined\": 0, \"var\": 16990.599480968853, \"progress\": 1.0, \"size\": 34, \"frequent_items\": {\"769\": {\"frequency\": 1, \"value\": 769}, \"643\": {\"frequency\": 1, \"value\": 643}, \"645\": {\"frequency\": 1, \"value\": 645}, \"778\": {\"frequency\": 1, \"value\": 778}, \"813\": {\"frequency\": 1, \"value\": 813}, \"662\": {\"frequency\": 1, \"value\": 662}, \"537\": {\"frequency\": 1, \"value\": 537}, \"543\": {\"frequency\": 1, \"value\": 543}, \"547\": {\"frequency\": 1, \"value\": 547}, \"806\": {\"frequency\": 1, \"value\": 806}, \"552\": {\"frequency\": 1, \"value\": 552}, \"555\": {\"frequency\": 1, \"value\": 555}, \"685\": {\"frequency\": 1, \"value\": 685}, \"559\": {\"frequency\": 1, \"value\": 559}, \"817\": {\"frequency\": 2, \"value\": 817}, \"562\": {\"frequency\": 1, \"value\": 562}, \"573\": {\"frequency\": 1, \"value\": 573}, \"574\": {\"frequency\": 1, \"value\": 574}, \"831\": {\"frequency\": 1, \"value\": 831}, \"833\": {\"frequency\": 1, \"value\": 833}, \"963\": {\"frequency\": 1, \"value\": 963}, \"712\": {\"frequency\": 1, \"value\": 712}, \"844\": {\"frequency\": 1, \"value\": 844}, \"462\": {\"frequency\": 1, \"value\": 462}, \"851\": {\"frequency\": 1, \"value\": 851}, \"602\": {\"frequency\": 1, \"value\": 602}, \"702\": {\"frequency\": 1, \"value\": 702}, \"489\": {\"frequency\": 1, \"value\": 489}, \"621\": {\"frequency\": 1, \"value\": 621}, \"751\": {\"frequency\": 1, \"value\": 751}, \"497\": {\"frequency\": 1, \"value\": 497}, \"501\": {\"frequency\": 1, \"value\": 501}, \"631\": {\"frequency\": 1, \"value\": 631}}, \"mean\": 668.4411764705883}, \"Total searches\": {\"std\": 898.9112330170819, \"complete\": true, \"min\": 4818.0, \"max\": 8301.0, \"quantile\": [4818.0, 4818.0, 4818.0, 5022.0, 5022.0, 5022.0, 5268.0, 5268.0, 5268.0, 5449.0, 5449.0, 5449.0, 5610.0, 5610.0, 5610.0, 5697.0, 5697.0, 5697.0, 5838.0, 5838.0, 5838.0, 5862.0, 5862.0, 5862.0, 5903.0, 5903.0, 5903.0, 5924.0, 5924.0, 5924.0, 5947.0, 5947.0, 5947.0, 6084.0, 6084.0, 6084.0, 6084.0, 6084.0, 6084.0, 6164.0, 6164.0, 6164.0, 6178.0, 6178.0, 6178.0, 6223.0, 6223.0, 6223.0, 6245.0, 6245.0, 6284.0, 6284.0, 6284.0, 6474.0, 6474.0, 6474.0, 6550.0, 6550.0, 6550.0, 6665.0, 6665.0, 6665.0, 6674.0, 6674.0, 6674.0, 7154.0, 7154.0, 7154.0, 7245.0, 7245.0, 7245.0, 7245.0, 7245.0, 7245.0, 7421.0, 7421.0, 7421.0, 7466.0, 7466.0, 7466.0, 7487.0, 7487.0, 7487.0, 7515.0, 7515.0, 7515.0, 7660.0, 7660.0, 7660.0, 7701.0, 7701.0, 7701.0, 7745.0, 7745.0, 7745.0, 8197.0, 8197.0, 8197.0, 8301.0, 8301.0, 8301.0], \"median\": 6284.0, \"numeric\": true, \"num_unique\": 32, \"num_undefined\": 0, \"var\": 808041.4048442906, \"progress\": 1.0, \"size\": 34, \"frequent_items\": {\"8197\": {\"frequency\": 1, \"value\": 8197}, \"7745\": {\"frequency\": 1, \"value\": 7745}, \"6665\": {\"frequency\": 1, \"value\": 6665}, \"6284\": {\"frequency\": 1, \"value\": 6284}, \"5903\": {\"frequency\": 1, \"value\": 5903}, \"6674\": {\"frequency\": 1, \"value\": 6674}, \"5268\": {\"frequency\": 1, \"value\": 5268}, \"7701\": {\"frequency\": 1, \"value\": 7701}, \"6550\": {\"frequency\": 1, \"value\": 6550}, \"5022\": {\"frequency\": 1, \"value\": 5022}, \"6178\": {\"frequency\": 1, \"value\": 6178}, \"5924\": {\"frequency\": 1, \"value\": 5924}, \"7466\": {\"frequency\": 1, \"value\": 7466}, \"5947\": {\"frequency\": 1, \"value\": 5947}, \"7487\": {\"frequency\": 1, \"value\": 7487}, \"5697\": {\"frequency\": 1, \"value\": 5697}, \"6084\": {\"frequency\": 2, \"value\": 6084}, \"5449\": {\"frequency\": 1, \"value\": 5449}, \"6474\": {\"frequency\": 1, \"value\": 6474}, \"7245\": {\"frequency\": 2, \"value\": 7245}, \"5838\": {\"frequency\": 1, \"value\": 5838}, \"6223\": {\"frequency\": 1, \"value\": 6223}, \"4818\": {\"frequency\": 1, \"value\": 4818}, \"7515\": {\"frequency\": 1, \"value\": 7515}, \"6245\": {\"frequency\": 1, \"value\": 6245}, \"5862\": {\"frequency\": 1, \"value\": 5862}, \"5610\": {\"frequency\": 1, \"value\": 5610}, \"7660\": {\"frequency\": 1, \"value\": 7660}, \"8301\": {\"frequency\": 1, \"value\": 8301}, \"7154\": {\"frequency\": 1, \"value\": 7154}, \"6164\": {\"frequency\": 1, \"value\": 6164}, \"7421\": {\"frequency\": 1, \"value\": 7421}}, \"mean\": 6532.352941176471}, \"Maps views\": {\"std\": 1948.0344741004294, \"complete\": true, \"min\": 6773.0, \"max\": 14569.0, \"quantile\": [6773.0, 6773.0, 6773.0, 6947.0, 6947.0, 6947.0, 8135.0, 8135.0, 8135.0, 8417.0, 8417.0, 8417.0, 9029.0, 9029.0, 9029.0, 9120.0, 9120.0, 9120.0, 9149.0, 9149.0, 9149.0, 9215.0, 9215.0, 9215.0, 9299.0, 9299.0, 9299.0, 9316.0, 9316.0, 9316.0, 9346.0, 9346.0, 9346.0, 9477.0, 9477.0, 9477.0, 9562.0, 9562.0, 9562.0, 9586.0, 9586.0, 9586.0, 9757.0, 9757.0, 9757.0, 9895.0, 9895.0, 9895.0, 9941.0, 9941.0, 10070.0, 10070.0, 10070.0, 10099.0, 10099.0, 10099.0, 10569.0, 10569.0, 10569.0, 10866.0, 10866.0, 10866.0, 11157.0, 11157.0, 11157.0, 11616.0, 11616.0, 11616.0, 11752.0, 11752.0, 11752.0, 11821.0, 11821.0, 11821.0, 11916.0, 11916.0, 11916.0, 11945.0, 11945.0, 11945.0, 12849.0, 12849.0, 12849.0, 12934.0, 12934.0, 12934.0, 13102.0, 13102.0, 13102.0, 13325.0, 13325.0, 13325.0, 13447.0, 13447.0, 13447.0, 14506.0, 14506.0, 14506.0, 14569.0, 14569.0, 14569.0], \"median\": 10070.0, \"numeric\": true, \"num_unique\": 34, \"num_undefined\": 0, \"var\": 3794838.3122837367, \"progress\": 1.0, \"size\": 34, \"frequent_items\": {\"9346\": {\"frequency\": 1, \"value\": 9346}, \"9477\": {\"frequency\": 1, \"value\": 9477}, \"12934\": {\"frequency\": 1, \"value\": 12934}, \"13447\": {\"frequency\": 1, \"value\": 13447}, \"11916\": {\"frequency\": 1, \"value\": 11916}, \"13325\": {\"frequency\": 1, \"value\": 13325}, \"11157\": {\"frequency\": 1, \"value\": 11157}, \"9757\": {\"frequency\": 1, \"value\": 9757}, \"9120\": {\"frequency\": 1, \"value\": 9120}, \"6947\": {\"frequency\": 1, \"value\": 6947}, \"9895\": {\"frequency\": 1, \"value\": 9895}, \"11945\": {\"frequency\": 1, \"value\": 11945}, \"14506\": {\"frequency\": 1, \"value\": 14506}, \"11821\": {\"frequency\": 1, \"value\": 11821}, \"13102\": {\"frequency\": 1, \"value\": 13102}, \"12849\": {\"frequency\": 1, \"value\": 12849}, \"9149\": {\"frequency\": 1, \"value\": 9149}, \"9029\": {\"frequency\": 1, \"value\": 9029}, \"8135\": {\"frequency\": 1, \"value\": 8135}, \"10569\": {\"frequency\": 1, \"value\": 10569}, \"9586\": {\"frequency\": 1, \"value\": 9586}, \"9299\": {\"frequency\": 1, \"value\": 9299}, \"9941\": {\"frequency\": 1, \"value\": 9941}, \"10070\": {\"frequency\": 1, \"value\": 10070}, \"9562\": {\"frequency\": 1, \"value\": 9562}, \"11616\": {\"frequency\": 1, \"value\": 11616}, \"8417\": {\"frequency\": 1, \"value\": 8417}, \"9316\": {\"frequency\": 1, \"value\": 9316}, \"11752\": {\"frequency\": 1, \"value\": 11752}, \"14569\": {\"frequency\": 1, \"value\": 14569}, \"10866\": {\"frequency\": 1, \"value\": 10866}, \"10099\": {\"frequency\": 1, \"value\": 10099}, \"6773\": {\"frequency\": 1, \"value\": 6773}, \"9215\": {\"frequency\": 1, \"value\": 9215}}, \"mean\": 10573.735294117647}, \"Phone call actions\": {\"std\": 16.34775626647574, \"complete\": true, \"min\": 46.0, \"max\": 112.0, \"quantile\": [46.0, 46.0, 46.0, 49.0, 49.0, 49.0, 56.0, 56.0, 56.0, 58.0, 58.0, 58.0, 63.0, 63.0, 63.0, 64.0, 64.0, 64.0, 66.0, 66.0, 66.0, 68.0, 68.0, 68.0, 68.0, 68.0, 68.0, 68.0, 68.0, 68.0, 70.0, 70.0, 70.0, 70.0, 70.0, 70.0, 70.0, 70.0, 70.0, 71.0, 71.0, 71.0, 72.0, 72.0, 72.0, 74.0, 74.0, 74.0, 76.0, 76.0, 77.0, 77.0, 77.0, 78.0, 78.0, 78.0, 78.0, 78.0, 78.0, 81.0, 81.0, 81.0, 84.0, 84.0, 84.0, 85.0, 85.0, 85.0, 88.0, 88.0, 88.0, 88.0, 88.0, 88.0, 88.0, 88.0, 88.0, 94.0, 94.0, 94.0, 95.0, 95.0, 95.0, 95.0, 95.0, 95.0, 97.0, 97.0, 97.0, 102.0, 102.0, 102.0, 108.0, 108.0, 108.0, 109.0, 109.0, 109.0, 112.0, 112.0, 112.0], \"median\": 77.0, \"numeric\": true, \"num_unique\": 26, \"num_undefined\": 0, \"var\": 267.24913494809687, \"progress\": 1.0, \"size\": 34, \"frequent_items\": {\"46\": {\"frequency\": 1, \"value\": 46}, \"49\": {\"frequency\": 1, \"value\": 49}, \"56\": {\"frequency\": 1, \"value\": 56}, \"58\": {\"frequency\": 1, \"value\": 58}, \"63\": {\"frequency\": 1, \"value\": 63}, \"64\": {\"frequency\": 1, \"value\": 64}, \"66\": {\"frequency\": 1, \"value\": 66}, \"68\": {\"frequency\": 3, \"value\": 68}, \"70\": {\"frequency\": 3, \"value\": 70}, \"71\": {\"frequency\": 1, \"value\": 71}, \"72\": {\"frequency\": 1, \"value\": 72}, \"74\": {\"frequency\": 1, \"value\": 74}, \"76\": {\"frequency\": 1, \"value\": 76}, \"77\": {\"frequency\": 1, \"value\": 77}, \"78\": {\"frequency\": 2, \"value\": 78}, \"81\": {\"frequency\": 1, \"value\": 81}, \"84\": {\"frequency\": 1, \"value\": 84}, \"85\": {\"frequency\": 1, \"value\": 85}, \"88\": {\"frequency\": 3, \"value\": 88}, \"94\": {\"frequency\": 1, \"value\": 94}, \"95\": {\"frequency\": 2, \"value\": 95}, \"97\": {\"frequency\": 1, \"value\": 97}, \"102\": {\"frequency\": 1, \"value\": 102}, \"108\": {\"frequency\": 1, \"value\": 108}, \"109\": {\"frequency\": 1, \"value\": 109}, \"112\": {\"frequency\": 1, \"value\": 112}}, \"mean\": 78.47058823529413}}, \"selected_variable\": {\"name\": [\"reg_data_train\"], \"descriptives\": {\"rows\": 34, \"columns\": 11}, \"view_component\": \"Summary\", \"view_file\": \"sframe\", \"view_params\": {\"y\": null, \"x\": null, \"columns\": [\"Direct searches\", \"Directions actions\", \"Discovery searches\", \"Maps views\", \"Phone call actions\", \"Search views\", \"Total actions\", \"Total searches\", \"Total views\", \"Website actions\", \"Net sales\"], \"view\": null}, \"view_components\": [\"Summary\", \"Table\", \"Bar Chart\", \"BoxWhisker Plot\", \"Line Chart\", \"Scatter Plot\", \"Heat Map\", \"Plots\"], \"type\": \"SFrame\", \"columns\": [{\"dtype\": \"int\", \"name\": \"Direct searches\"}, {\"dtype\": \"int\", \"name\": \"Directions actions\"}, {\"dtype\": \"int\", \"name\": \"Discovery searches\"}, {\"dtype\": \"int\", \"name\": \"Maps views\"}, {\"dtype\": \"int\", \"name\": \"Phone call actions\"}, {\"dtype\": \"int\", \"name\": \"Search views\"}, {\"dtype\": \"int\", \"name\": \"Total actions\"}, {\"dtype\": \"int\", \"name\": \"Total searches\"}, {\"dtype\": \"int\", \"name\": \"Total views\"}, {\"dtype\": \"int\", \"name\": \"Website actions\"}, {\"dtype\": \"float\", \"name\": \"Net sales\"}], \"column_identifiers\": [\"Net sales\", \"Search views\", \"Directions actions\", \"Direct searches\", \"Total views\", \"Discovery searches\", \"Website actions\", \"Total actions\", \"Total searches\", \"Maps views\", \"Phone call actions\"]}, \"columns\": [{\"dtype\": \"int\", \"name\": \"Direct searches\"}, {\"dtype\": \"int\", \"name\": \"Directions actions\"}, {\"dtype\": \"int\", \"name\": \"Discovery searches\"}, {\"dtype\": \"int\", \"name\": \"Maps views\"}, {\"dtype\": \"int\", \"name\": \"Phone call actions\"}, {\"dtype\": \"int\", \"name\": \"Search views\"}, {\"dtype\": \"int\", \"name\": \"Total actions\"}, {\"dtype\": \"int\", \"name\": \"Total searches\"}, {\"dtype\": \"int\", \"name\": \"Total views\"}, {\"dtype\": \"int\", \"name\": \"Website actions\"}, {\"dtype\": \"float\", \"name\": \"Net sales\"}]}, e);\n",
       "                });\n",
       "            })();\n",
       "        "
      ]
     },
     "metadata": {},
     "output_type": "display_data"
    }
   ],
   "source": [
    "reg_data_train.show()"
   ]
  },
  {
   "cell_type": "markdown",
   "metadata": {},
   "source": [
    "## Check for anomolies"
   ]
  },
  {
   "cell_type": "code",
   "execution_count": 10,
   "metadata": {
    "collapsed": false
   },
   "outputs": [
    {
     "data": {
      "text/html": [
       "<pre>Starting brute force nearest neighbors model training.</pre>"
      ],
      "text/plain": [
       "Starting brute force nearest neighbors model training."
      ]
     },
     "metadata": {},
     "output_type": "display_data"
    },
    {
     "data": {
      "text/html": [
       "<pre>Starting blockwise similarity graph construction.</pre>"
      ],
      "text/plain": [
       "Starting blockwise similarity graph construction."
      ]
     },
     "metadata": {},
     "output_type": "display_data"
    },
    {
     "data": {
      "text/html": [
       "<pre>max rows per data block: 8181</pre>"
      ],
      "text/plain": [
       "max rows per data block: 8181"
      ]
     },
     "metadata": {},
     "output_type": "display_data"
    },
    {
     "data": {
      "text/html": [
       "<pre>number of reference data blocks: 4</pre>"
      ],
      "text/plain": [
       "number of reference data blocks: 4"
      ]
     },
     "metadata": {},
     "output_type": "display_data"
    },
    {
     "data": {
      "text/html": [
       "<pre>+---------+-------------+--------------+</pre>"
      ],
      "text/plain": [
       "+---------+-------------+--------------+"
      ]
     },
     "metadata": {},
     "output_type": "display_data"
    },
    {
     "data": {
      "text/html": [
       "<pre>| # Pairs | % Complete. | Elapsed Time |</pre>"
      ],
      "text/plain": [
       "| # Pairs | % Complete. | Elapsed Time |"
      ]
     },
     "metadata": {},
     "output_type": "display_data"
    },
    {
     "data": {
      "text/html": [
       "<pre>+---------+-------------+--------------+</pre>"
      ],
      "text/plain": [
       "+---------+-------------+--------------+"
      ]
     },
     "metadata": {},
     "output_type": "display_data"
    },
    {
     "data": {
      "text/html": [
       "<pre>| 64      | 7.90123     | 0us          |</pre>"
      ],
      "text/plain": [
       "| 64      | 7.90123     | 0us          |"
      ]
     },
     "metadata": {},
     "output_type": "display_data"
    },
    {
     "data": {
      "text/html": [
       "<pre>| 810     | 100         | 1ms          |</pre>"
      ],
      "text/plain": [
       "| 810     | 100         | 1ms          |"
      ]
     },
     "metadata": {},
     "output_type": "display_data"
    },
    {
     "data": {
      "text/html": [
       "<pre>+---------+-------------+--------------+</pre>"
      ],
      "text/plain": [
       "+---------+-------------+--------------+"
      ]
     },
     "metadata": {},
     "output_type": "display_data"
    }
   ],
   "source": [
    "lof = gl.toolkits.anomaly_detection.local_outlier_factor.create(reg_data_train)\n",
    "scores = lof['scores']"
   ]
  },
  {
   "cell_type": "code",
   "execution_count": 26,
   "metadata": {
    "collapsed": false
   },
   "outputs": [
    {
     "data": {
      "text/html": [
       "<div style=\"max-height:1000px;max-width:1500px;overflow:auto;\"><table frame=\"box\" rules=\"cols\">\n",
       "    <tr>\n",
       "        <th style=\"padding-left: 1em; padding-right: 1em; text-align: center\">row_id</th>\n",
       "        <th style=\"padding-left: 1em; padding-right: 1em; text-align: center\">density</th>\n",
       "        <th style=\"padding-left: 1em; padding-right: 1em; text-align: center\">anomaly_score</th>\n",
       "        <th style=\"padding-left: 1em; padding-right: 1em; text-align: center\">neighborhood_radius</th>\n",
       "    </tr>\n",
       "    <tr>\n",
       "        <td style=\"padding-left: 1em; padding-right: 1em; text-align: center; vertical-align: top\">6</td>\n",
       "        <td style=\"padding-left: 1em; padding-right: 1em; text-align: center; vertical-align: top\">0.000178130655759</td>\n",
       "        <td style=\"padding-left: 1em; padding-right: 1em; text-align: center; vertical-align: top\">2.16729500845</td>\n",
       "        <td style=\"padding-left: 1em; padding-right: 1em; text-align: center; vertical-align: top\">6063.7710478</td>\n",
       "    </tr>\n",
       "    <tr>\n",
       "        <td style=\"padding-left: 1em; padding-right: 1em; text-align: center; vertical-align: top\">27</td>\n",
       "        <td style=\"padding-left: 1em; padding-right: 1em; text-align: center; vertical-align: top\">0.000154467634139</td>\n",
       "        <td style=\"padding-left: 1em; padding-right: 1em; text-align: center; vertical-align: top\">1.50754440273</td>\n",
       "        <td style=\"padding-left: 1em; padding-right: 1em; text-align: center; vertical-align: top\">8047.79986089</td>\n",
       "    </tr>\n",
       "    <tr>\n",
       "        <td style=\"padding-left: 1em; padding-right: 1em; text-align: center; vertical-align: top\">4</td>\n",
       "        <td style=\"padding-left: 1em; padding-right: 1em; text-align: center; vertical-align: top\">0.00025946511246</td>\n",
       "        <td style=\"padding-left: 1em; padding-right: 1em; text-align: center; vertical-align: top\">1.36681449815</td>\n",
       "        <td style=\"padding-left: 1em; padding-right: 1em; text-align: center; vertical-align: top\">4182.49639373</td>\n",
       "    </tr>\n",
       "    <tr>\n",
       "        <td style=\"padding-left: 1em; padding-right: 1em; text-align: center; vertical-align: top\">26</td>\n",
       "        <td style=\"padding-left: 1em; padding-right: 1em; text-align: center; vertical-align: top\">0.000206825591052</td>\n",
       "        <td style=\"padding-left: 1em; padding-right: 1em; text-align: center; vertical-align: top\">1.34902925494</td>\n",
       "        <td style=\"padding-left: 1em; padding-right: 1em; text-align: center; vertical-align: top\">5532.45077383</td>\n",
       "    </tr>\n",
       "    <tr>\n",
       "        <td style=\"padding-left: 1em; padding-right: 1em; text-align: center; vertical-align: top\">21</td>\n",
       "        <td style=\"padding-left: 1em; padding-right: 1em; text-align: center; vertical-align: top\">0.000288342528445</td>\n",
       "        <td style=\"padding-left: 1em; padding-right: 1em; text-align: center; vertical-align: top\">1.31464237114</td>\n",
       "        <td style=\"padding-left: 1em; padding-right: 1em; text-align: center; vertical-align: top\">3969.53480429</td>\n",
       "    </tr>\n",
       "    <tr>\n",
       "        <td style=\"padding-left: 1em; padding-right: 1em; text-align: center; vertical-align: top\">22</td>\n",
       "        <td style=\"padding-left: 1em; padding-right: 1em; text-align: center; vertical-align: top\">0.000212686795519</td>\n",
       "        <td style=\"padding-left: 1em; padding-right: 1em; text-align: center; vertical-align: top\">1.3063412396</td>\n",
       "        <td style=\"padding-left: 1em; padding-right: 1em; text-align: center; vertical-align: top\">4723.00949066</td>\n",
       "    </tr>\n",
       "    <tr>\n",
       "        <td style=\"padding-left: 1em; padding-right: 1em; text-align: center; vertical-align: top\">24</td>\n",
       "        <td style=\"padding-left: 1em; padding-right: 1em; text-align: center; vertical-align: top\">0.000175655095193</td>\n",
       "        <td style=\"padding-left: 1em; padding-right: 1em; text-align: center; vertical-align: top\">1.30158094638</td>\n",
       "        <td style=\"padding-left: 1em; padding-right: 1em; text-align: center; vertical-align: top\">6750.34876024</td>\n",
       "    </tr>\n",
       "    <tr>\n",
       "        <td style=\"padding-left: 1em; padding-right: 1em; text-align: center; vertical-align: top\">17</td>\n",
       "        <td style=\"padding-left: 1em; padding-right: 1em; text-align: center; vertical-align: top\">0.000255725269982</td>\n",
       "        <td style=\"padding-left: 1em; padding-right: 1em; text-align: center; vertical-align: top\">1.18185897118</td>\n",
       "        <td style=\"padding-left: 1em; padding-right: 1em; text-align: center; vertical-align: top\">4525.44107835</td>\n",
       "    </tr>\n",
       "    <tr>\n",
       "        <td style=\"padding-left: 1em; padding-right: 1em; text-align: center; vertical-align: top\">20</td>\n",
       "        <td style=\"padding-left: 1em; padding-right: 1em; text-align: center; vertical-align: top\">0.00023054023521</td>\n",
       "        <td style=\"padding-left: 1em; padding-right: 1em; text-align: center; vertical-align: top\">1.1310244895</td>\n",
       "        <td style=\"padding-left: 1em; padding-right: 1em; text-align: center; vertical-align: top\">4525.44107835</td>\n",
       "    </tr>\n",
       "    <tr>\n",
       "        <td style=\"padding-left: 1em; padding-right: 1em; text-align: center; vertical-align: top\">18</td>\n",
       "        <td style=\"padding-left: 1em; padding-right: 1em; text-align: center; vertical-align: top\">0.000280614183963</td>\n",
       "        <td style=\"padding-left: 1em; padding-right: 1em; text-align: center; vertical-align: top\">1.12924681773</td>\n",
       "        <td style=\"padding-left: 1em; padding-right: 1em; text-align: center; vertical-align: top\">4001.60318924</td>\n",
       "    </tr>\n",
       "</table>\n",
       "[34 rows x 4 columns]<br/>Note: Only the head of the SFrame is printed.<br/>You can use print_rows(num_rows=m, num_columns=n) to print more rows and columns.\n",
       "</div>"
      ],
      "text/plain": [
       "Columns:\n",
       "\trow_id\tint\n",
       "\tdensity\tfloat\n",
       "\tanomaly_score\tfloat\n",
       "\tneighborhood_radius\tfloat\n",
       "\n",
       "Rows: 34\n",
       "\n",
       "Data:\n",
       "+--------+-------------------+---------------+---------------------+\n",
       "| row_id |      density      | anomaly_score | neighborhood_radius |\n",
       "+--------+-------------------+---------------+---------------------+\n",
       "|   6    | 0.000178130655759 | 2.16729500845 |     6063.7710478    |\n",
       "|   27   | 0.000154467634139 | 1.50754440273 |    8047.79986089    |\n",
       "|   4    |  0.00025946511246 | 1.36681449815 |    4182.49639373    |\n",
       "|   26   | 0.000206825591052 | 1.34902925494 |    5532.45077383    |\n",
       "|   21   | 0.000288342528445 | 1.31464237114 |    3969.53480429    |\n",
       "|   22   | 0.000212686795519 |  1.3063412396 |    4723.00949066    |\n",
       "|   24   | 0.000175655095193 | 1.30158094638 |    6750.34876024    |\n",
       "|   17   | 0.000255725269982 | 1.18185897118 |    4525.44107835    |\n",
       "|   20   |  0.00023054023521 |  1.1310244895 |    4525.44107835    |\n",
       "|   18   | 0.000280614183963 | 1.12924681773 |    4001.60318924    |\n",
       "+--------+-------------------+---------------+---------------------+\n",
       "[34 rows x 4 columns]\n",
       "Note: Only the head of the SFrame is printed.\n",
       "You can use print_rows(num_rows=m, num_columns=n) to print more rows and columns."
      ]
     },
     "execution_count": 26,
     "metadata": {},
     "output_type": "execute_result"
    }
   ],
   "source": [
    "scores.sort('anomaly_score', ascending = False)"
   ]
  },
  {
   "cell_type": "markdown",
   "metadata": {},
   "source": [
    "## Get feature names"
   ]
  },
  {
   "cell_type": "code",
   "execution_count": 11,
   "metadata": {
    "collapsed": false
   },
   "outputs": [
    {
     "data": {
      "text/html": [
       "<div style=\"max-height:1000px;max-width:1500px;overflow:auto;\"><table frame=\"box\" rules=\"cols\">\n",
       "    <tr>\n",
       "        <th style=\"padding-left: 1em; padding-right: 1em; text-align: center\">Direct searches</th>\n",
       "        <th style=\"padding-left: 1em; padding-right: 1em; text-align: center\">Directions actions</th>\n",
       "        <th style=\"padding-left: 1em; padding-right: 1em; text-align: center\">Discovery searches</th>\n",
       "        <th style=\"padding-left: 1em; padding-right: 1em; text-align: center\">Maps views</th>\n",
       "        <th style=\"padding-left: 1em; padding-right: 1em; text-align: center\">Phone call actions</th>\n",
       "        <th style=\"padding-left: 1em; padding-right: 1em; text-align: center\">Search views</th>\n",
       "        <th style=\"padding-left: 1em; padding-right: 1em; text-align: center\">Total actions</th>\n",
       "    </tr>\n",
       "    <tr>\n",
       "        <td style=\"padding-left: 1em; padding-right: 1em; text-align: center; vertical-align: top\">674</td>\n",
       "        <td style=\"padding-left: 1em; padding-right: 1em; text-align: center; vertical-align: top\">333</td>\n",
       "        <td style=\"padding-left: 1em; padding-right: 1em; text-align: center; vertical-align: top\">5571</td>\n",
       "        <td style=\"padding-left: 1em; padding-right: 1em; text-align: center; vertical-align: top\">9586</td>\n",
       "        <td style=\"padding-left: 1em; padding-right: 1em; text-align: center; vertical-align: top\">74</td>\n",
       "        <td style=\"padding-left: 1em; padding-right: 1em; text-align: center; vertical-align: top\">7026</td>\n",
       "        <td style=\"padding-left: 1em; padding-right: 1em; text-align: center; vertical-align: top\">621</td>\n",
       "    </tr>\n",
       "    <tr>\n",
       "        <td style=\"padding-left: 1em; padding-right: 1em; text-align: center; vertical-align: top\">677</td>\n",
       "        <td style=\"padding-left: 1em; padding-right: 1em; text-align: center; vertical-align: top\">423</td>\n",
       "        <td style=\"padding-left: 1em; padding-right: 1em; text-align: center; vertical-align: top\">5988</td>\n",
       "        <td style=\"padding-left: 1em; padding-right: 1em; text-align: center; vertical-align: top\">9757</td>\n",
       "        <td style=\"padding-left: 1em; padding-right: 1em; text-align: center; vertical-align: top\">102</td>\n",
       "        <td style=\"padding-left: 1em; padding-right: 1em; text-align: center; vertical-align: top\">7093</td>\n",
       "        <td style=\"padding-left: 1em; padding-right: 1em; text-align: center; vertical-align: top\">702</td>\n",
       "    </tr>\n",
       "    <tr>\n",
       "        <td style=\"padding-left: 1em; padding-right: 1em; text-align: center; vertical-align: top\">639</td>\n",
       "        <td style=\"padding-left: 1em; padding-right: 1em; text-align: center; vertical-align: top\">304</td>\n",
       "        <td style=\"padding-left: 1em; padding-right: 1em; text-align: center; vertical-align: top\">5308</td>\n",
       "        <td style=\"padding-left: 1em; padding-right: 1em; text-align: center; vertical-align: top\">9346</td>\n",
       "        <td style=\"padding-left: 1em; padding-right: 1em; text-align: center; vertical-align: top\">64</td>\n",
       "        <td style=\"padding-left: 1em; padding-right: 1em; text-align: center; vertical-align: top\">6637</td>\n",
       "        <td style=\"padding-left: 1em; padding-right: 1em; text-align: center; vertical-align: top\">562</td>\n",
       "    </tr>\n",
       "    <tr>\n",
       "        <td style=\"padding-left: 1em; padding-right: 1em; text-align: center; vertical-align: top\">694</td>\n",
       "        <td style=\"padding-left: 1em; padding-right: 1em; text-align: center; vertical-align: top\">259</td>\n",
       "        <td style=\"padding-left: 1em; padding-right: 1em; text-align: center; vertical-align: top\">5484</td>\n",
       "        <td style=\"padding-left: 1em; padding-right: 1em; text-align: center; vertical-align: top\">9299</td>\n",
       "        <td style=\"padding-left: 1em; padding-right: 1em; text-align: center; vertical-align: top\">78</td>\n",
       "        <td style=\"padding-left: 1em; padding-right: 1em; text-align: center; vertical-align: top\">6910</td>\n",
       "        <td style=\"padding-left: 1em; padding-right: 1em; text-align: center; vertical-align: top\">543</td>\n",
       "    </tr>\n",
       "    <tr>\n",
       "        <td style=\"padding-left: 1em; padding-right: 1em; text-align: center; vertical-align: top\">694</td>\n",
       "        <td style=\"padding-left: 1em; padding-right: 1em; text-align: center; vertical-align: top\">377</td>\n",
       "        <td style=\"padding-left: 1em; padding-right: 1em; text-align: center; vertical-align: top\">5590</td>\n",
       "        <td style=\"padding-left: 1em; padding-right: 1em; text-align: center; vertical-align: top\">10070</td>\n",
       "        <td style=\"padding-left: 1em; padding-right: 1em; text-align: center; vertical-align: top\">78</td>\n",
       "        <td style=\"padding-left: 1em; padding-right: 1em; text-align: center; vertical-align: top\">6661</td>\n",
       "        <td style=\"padding-left: 1em; padding-right: 1em; text-align: center; vertical-align: top\">643</td>\n",
       "    </tr>\n",
       "    <tr>\n",
       "        <td style=\"padding-left: 1em; padding-right: 1em; text-align: center; vertical-align: top\">634</td>\n",
       "        <td style=\"padding-left: 1em; padding-right: 1em; text-align: center; vertical-align: top\">272</td>\n",
       "        <td style=\"padding-left: 1em; padding-right: 1em; text-align: center; vertical-align: top\">5290</td>\n",
       "        <td style=\"padding-left: 1em; padding-right: 1em; text-align: center; vertical-align: top\">9941</td>\n",
       "        <td style=\"padding-left: 1em; padding-right: 1em; text-align: center; vertical-align: top\">66</td>\n",
       "        <td style=\"padding-left: 1em; padding-right: 1em; text-align: center; vertical-align: top\">6895</td>\n",
       "        <td style=\"padding-left: 1em; padding-right: 1em; text-align: center; vertical-align: top\">501</td>\n",
       "    </tr>\n",
       "    <tr>\n",
       "        <td style=\"padding-left: 1em; padding-right: 1em; text-align: center; vertical-align: top\">512</td>\n",
       "        <td style=\"padding-left: 1em; padding-right: 1em; text-align: center; vertical-align: top\">230</td>\n",
       "        <td style=\"padding-left: 1em; padding-right: 1em; text-align: center; vertical-align: top\">4756</td>\n",
       "        <td style=\"padding-left: 1em; padding-right: 1em; text-align: center; vertical-align: top\">6773</td>\n",
       "        <td style=\"padding-left: 1em; padding-right: 1em; text-align: center; vertical-align: top\">85</td>\n",
       "        <td style=\"padding-left: 1em; padding-right: 1em; text-align: center; vertical-align: top\">5633</td>\n",
       "        <td style=\"padding-left: 1em; padding-right: 1em; text-align: center; vertical-align: top\">462</td>\n",
       "    </tr>\n",
       "    <tr>\n",
       "        <td style=\"padding-left: 1em; padding-right: 1em; text-align: center; vertical-align: top\">714</td>\n",
       "        <td style=\"padding-left: 1em; padding-right: 1em; text-align: center; vertical-align: top\">229</td>\n",
       "        <td style=\"padding-left: 1em; padding-right: 1em; text-align: center; vertical-align: top\">4896</td>\n",
       "        <td style=\"padding-left: 1em; padding-right: 1em; text-align: center; vertical-align: top\">9029</td>\n",
       "        <td style=\"padding-left: 1em; padding-right: 1em; text-align: center; vertical-align: top\">70</td>\n",
       "        <td style=\"padding-left: 1em; padding-right: 1em; text-align: center; vertical-align: top\">6618</td>\n",
       "        <td style=\"padding-left: 1em; padding-right: 1em; text-align: center; vertical-align: top\">489</td>\n",
       "    </tr>\n",
       "    <tr>\n",
       "        <td style=\"padding-left: 1em; padding-right: 1em; text-align: center; vertical-align: top\">606</td>\n",
       "        <td style=\"padding-left: 1em; padding-right: 1em; text-align: center; vertical-align: top\">311</td>\n",
       "        <td style=\"padding-left: 1em; padding-right: 1em; text-align: center; vertical-align: top\">5478</td>\n",
       "        <td style=\"padding-left: 1em; padding-right: 1em; text-align: center; vertical-align: top\">10099</td>\n",
       "        <td style=\"padding-left: 1em; padding-right: 1em; text-align: center; vertical-align: top\">68</td>\n",
       "        <td style=\"padding-left: 1em; padding-right: 1em; text-align: center; vertical-align: top\">6614</td>\n",
       "        <td style=\"padding-left: 1em; padding-right: 1em; text-align: center; vertical-align: top\">555</td>\n",
       "    </tr>\n",
       "    <tr>\n",
       "        <td style=\"padding-left: 1em; padding-right: 1em; text-align: center; vertical-align: top\">755</td>\n",
       "        <td style=\"padding-left: 1em; padding-right: 1em; text-align: center; vertical-align: top\">242</td>\n",
       "        <td style=\"padding-left: 1em; padding-right: 1em; text-align: center; vertical-align: top\">5083</td>\n",
       "        <td style=\"padding-left: 1em; padding-right: 1em; text-align: center; vertical-align: top\">9477</td>\n",
       "        <td style=\"padding-left: 1em; padding-right: 1em; text-align: center; vertical-align: top\">70</td>\n",
       "        <td style=\"padding-left: 1em; padding-right: 1em; text-align: center; vertical-align: top\">6442</td>\n",
       "        <td style=\"padding-left: 1em; padding-right: 1em; text-align: center; vertical-align: top\">559</td>\n",
       "    </tr>\n",
       "</table>\n",
       "<table frame=\"box\" rules=\"cols\">\n",
       "    <tr>\n",
       "        <th style=\"padding-left: 1em; padding-right: 1em; text-align: center\">Total searches</th>\n",
       "        <th style=\"padding-left: 1em; padding-right: 1em; text-align: center\">Total views</th>\n",
       "        <th style=\"padding-left: 1em; padding-right: 1em; text-align: center\">Website actions</th>\n",
       "        <th style=\"padding-left: 1em; padding-right: 1em; text-align: center\">Net sales</th>\n",
       "    </tr>\n",
       "    <tr>\n",
       "        <td style=\"padding-left: 1em; padding-right: 1em; text-align: center; vertical-align: top\">6245</td>\n",
       "        <td style=\"padding-left: 1em; padding-right: 1em; text-align: center; vertical-align: top\">16612</td>\n",
       "        <td style=\"padding-left: 1em; padding-right: 1em; text-align: center; vertical-align: top\">214</td>\n",
       "        <td style=\"padding-left: 1em; padding-right: 1em; text-align: center; vertical-align: top\">65174.24</td>\n",
       "    </tr>\n",
       "    <tr>\n",
       "        <td style=\"padding-left: 1em; padding-right: 1em; text-align: center; vertical-align: top\">6665</td>\n",
       "        <td style=\"padding-left: 1em; padding-right: 1em; text-align: center; vertical-align: top\">16850</td>\n",
       "        <td style=\"padding-left: 1em; padding-right: 1em; text-align: center; vertical-align: top\">177</td>\n",
       "        <td style=\"padding-left: 1em; padding-right: 1em; text-align: center; vertical-align: top\">63243.05</td>\n",
       "    </tr>\n",
       "    <tr>\n",
       "        <td style=\"padding-left: 1em; padding-right: 1em; text-align: center; vertical-align: top\">5947</td>\n",
       "        <td style=\"padding-left: 1em; padding-right: 1em; text-align: center; vertical-align: top\">15983</td>\n",
       "        <td style=\"padding-left: 1em; padding-right: 1em; text-align: center; vertical-align: top\">194</td>\n",
       "        <td style=\"padding-left: 1em; padding-right: 1em; text-align: center; vertical-align: top\">61448.94</td>\n",
       "    </tr>\n",
       "    <tr>\n",
       "        <td style=\"padding-left: 1em; padding-right: 1em; text-align: center; vertical-align: top\">6178</td>\n",
       "        <td style=\"padding-left: 1em; padding-right: 1em; text-align: center; vertical-align: top\">16209</td>\n",
       "        <td style=\"padding-left: 1em; padding-right: 1em; text-align: center; vertical-align: top\">206</td>\n",
       "        <td style=\"padding-left: 1em; padding-right: 1em; text-align: center; vertical-align: top\">57884.06</td>\n",
       "    </tr>\n",
       "    <tr>\n",
       "        <td style=\"padding-left: 1em; padding-right: 1em; text-align: center; vertical-align: top\">6284</td>\n",
       "        <td style=\"padding-left: 1em; padding-right: 1em; text-align: center; vertical-align: top\">16731</td>\n",
       "        <td style=\"padding-left: 1em; padding-right: 1em; text-align: center; vertical-align: top\">188</td>\n",
       "        <td style=\"padding-left: 1em; padding-right: 1em; text-align: center; vertical-align: top\">67352.11</td>\n",
       "    </tr>\n",
       "    <tr>\n",
       "        <td style=\"padding-left: 1em; padding-right: 1em; text-align: center; vertical-align: top\">5924</td>\n",
       "        <td style=\"padding-left: 1em; padding-right: 1em; text-align: center; vertical-align: top\">16836</td>\n",
       "        <td style=\"padding-left: 1em; padding-right: 1em; text-align: center; vertical-align: top\">163</td>\n",
       "        <td style=\"padding-left: 1em; padding-right: 1em; text-align: center; vertical-align: top\">63419.34</td>\n",
       "    </tr>\n",
       "    <tr>\n",
       "        <td style=\"padding-left: 1em; padding-right: 1em; text-align: center; vertical-align: top\">5268</td>\n",
       "        <td style=\"padding-left: 1em; padding-right: 1em; text-align: center; vertical-align: top\">12406</td>\n",
       "        <td style=\"padding-left: 1em; padding-right: 1em; text-align: center; vertical-align: top\">147</td>\n",
       "        <td style=\"padding-left: 1em; padding-right: 1em; text-align: center; vertical-align: top\">64789.54</td>\n",
       "    </tr>\n",
       "    <tr>\n",
       "        <td style=\"padding-left: 1em; padding-right: 1em; text-align: center; vertical-align: top\">5610</td>\n",
       "        <td style=\"padding-left: 1em; padding-right: 1em; text-align: center; vertical-align: top\">15647</td>\n",
       "        <td style=\"padding-left: 1em; padding-right: 1em; text-align: center; vertical-align: top\">190</td>\n",
       "        <td style=\"padding-left: 1em; padding-right: 1em; text-align: center; vertical-align: top\">61786.89</td>\n",
       "    </tr>\n",
       "    <tr>\n",
       "        <td style=\"padding-left: 1em; padding-right: 1em; text-align: center; vertical-align: top\">6084</td>\n",
       "        <td style=\"padding-left: 1em; padding-right: 1em; text-align: center; vertical-align: top\">16713</td>\n",
       "        <td style=\"padding-left: 1em; padding-right: 1em; text-align: center; vertical-align: top\">176</td>\n",
       "        <td style=\"padding-left: 1em; padding-right: 1em; text-align: center; vertical-align: top\">61701.68</td>\n",
       "    </tr>\n",
       "    <tr>\n",
       "        <td style=\"padding-left: 1em; padding-right: 1em; text-align: center; vertical-align: top\">5838</td>\n",
       "        <td style=\"padding-left: 1em; padding-right: 1em; text-align: center; vertical-align: top\">15919</td>\n",
       "        <td style=\"padding-left: 1em; padding-right: 1em; text-align: center; vertical-align: top\">247</td>\n",
       "        <td style=\"padding-left: 1em; padding-right: 1em; text-align: center; vertical-align: top\">54512.16</td>\n",
       "    </tr>\n",
       "</table>\n",
       "[34 rows x 11 columns]<br/>Note: Only the head of the SFrame is printed.<br/>You can use print_rows(num_rows=m, num_columns=n) to print more rows and columns.\n",
       "</div>"
      ],
      "text/plain": [
       "Columns:\n",
       "\tDirect searches\tint\n",
       "\tDirections actions\tint\n",
       "\tDiscovery searches\tint\n",
       "\tMaps views\tint\n",
       "\tPhone call actions\tint\n",
       "\tSearch views\tint\n",
       "\tTotal actions\tint\n",
       "\tTotal searches\tint\n",
       "\tTotal views\tint\n",
       "\tWebsite actions\tint\n",
       "\tNet sales\tfloat\n",
       "\n",
       "Rows: 34\n",
       "\n",
       "Data:\n",
       "+-----------------+--------------------+--------------------+------------+--------------------+\n",
       "| Direct searches | Directions actions | Discovery searches | Maps views | Phone call actions |\n",
       "+-----------------+--------------------+--------------------+------------+--------------------+\n",
       "|       674       |        333         |        5571        |    9586    |         74         |\n",
       "|       677       |        423         |        5988        |    9757    |        102         |\n",
       "|       639       |        304         |        5308        |    9346    |         64         |\n",
       "|       694       |        259         |        5484        |    9299    |         78         |\n",
       "|       694       |        377         |        5590        |   10070    |         78         |\n",
       "|       634       |        272         |        5290        |    9941    |         66         |\n",
       "|       512       |        230         |        4756        |    6773    |         85         |\n",
       "|       714       |        229         |        4896        |    9029    |         70         |\n",
       "|       606       |        311         |        5478        |   10099    |         68         |\n",
       "|       755       |        242         |        5083        |    9477    |         70         |\n",
       "+-----------------+--------------------+--------------------+------------+--------------------+\n",
       "+--------------+---------------+----------------+-------------+-----------------+\n",
       "| Search views | Total actions | Total searches | Total views | Website actions |\n",
       "+--------------+---------------+----------------+-------------+-----------------+\n",
       "|     7026     |      621      |      6245      |    16612    |       214       |\n",
       "|     7093     |      702      |      6665      |    16850    |       177       |\n",
       "|     6637     |      562      |      5947      |    15983    |       194       |\n",
       "|     6910     |      543      |      6178      |    16209    |       206       |\n",
       "|     6661     |      643      |      6284      |    16731    |       188       |\n",
       "|     6895     |      501      |      5924      |    16836    |       163       |\n",
       "|     5633     |      462      |      5268      |    12406    |       147       |\n",
       "|     6618     |      489      |      5610      |    15647    |       190       |\n",
       "|     6614     |      555      |      6084      |    16713    |       176       |\n",
       "|     6442     |      559      |      5838      |    15919    |       247       |\n",
       "+--------------+---------------+----------------+-------------+-----------------+\n",
       "+-----------+\n",
       "| Net sales |\n",
       "+-----------+\n",
       "|  65174.24 |\n",
       "|  63243.05 |\n",
       "|  61448.94 |\n",
       "|  57884.06 |\n",
       "|  67352.11 |\n",
       "|  63419.34 |\n",
       "|  64789.54 |\n",
       "|  61786.89 |\n",
       "|  61701.68 |\n",
       "|  54512.16 |\n",
       "+-----------+\n",
       "[34 rows x 11 columns]\n",
       "Note: Only the head of the SFrame is printed.\n",
       "You can use print_rows(num_rows=m, num_columns=n) to print more rows and columns."
      ]
     },
     "execution_count": 11,
     "metadata": {},
     "output_type": "execute_result"
    }
   ],
   "source": [
    "gl.SFrame(reg_data_train)"
   ]
  },
  {
   "cell_type": "code",
   "execution_count": 12,
   "metadata": {
    "collapsed": false
   },
   "outputs": [
    {
     "data": {
      "text/plain": [
       "['Direct searches',\n",
       " 'Directions actions',\n",
       " 'Discovery searches',\n",
       " 'Maps views',\n",
       " 'Phone call actions',\n",
       " 'Search views',\n",
       " 'Total actions',\n",
       " 'Total searches',\n",
       " 'Total views',\n",
       " 'Website actions']"
      ]
     },
     "execution_count": 12,
     "metadata": {},
     "output_type": "execute_result"
    }
   ],
   "source": [
    "features = reg_data_train.column_names()\n",
    "features[0:10]"
   ]
  },
  {
   "cell_type": "markdown",
   "metadata": {},
   "source": [
    "## Create models with l1 regularization between 0-6000"
   ]
  },
  {
   "cell_type": "code",
   "execution_count": 13,
   "metadata": {
    "collapsed": false
   },
   "outputs": [],
   "source": [
    "fista_model_1000 = gl.linear_regression.create(reg_data_train, target = 'Net sales', features = features[0:10], feature_rescaling= 'boolean',\n",
    "                                         solver = 'fista', l1_penalty = 1000.0, max_iterations = 2500, verbose = False)"
   ]
  },
  {
   "cell_type": "code",
   "execution_count": 14,
   "metadata": {
    "collapsed": false
   },
   "outputs": [
    {
     "name": "stdout",
     "output_type": "stream",
     "text": [
      "+--------------------+-------+----------------+--------+\n",
      "|        name        | index |     value      | stderr |\n",
      "+--------------------+-------+----------------+--------+\n",
      "|    (intercept)     |  None | 57759.2390672  |  None  |\n",
      "|  Direct searches   |  None |  6.5589646379  |  None  |\n",
      "| Directions actions |  None | 31.1370179847  |  None  |\n",
      "| Discovery searches |  None | 2.44153164373  |  None  |\n",
      "|     Maps views     |  None |  1.4158031539  |  None  |\n",
      "| Phone call actions |  None | -44.5886834121 |  None  |\n",
      "|    Search views    |  None | -6.94366009894 |  None  |\n",
      "|   Total actions    |  None |      0.0       |  None  |\n",
      "|   Total searches   |  None | 2.02727919803  |  None  |\n",
      "|    Total views     |  None |      0.0       |  None  |\n",
      "|  Website actions   |  None | -3.48520288644 |  None  |\n",
      "+--------------------+-------+----------------+--------+\n",
      "[11 rows x 4 columns]\n",
      "\n"
     ]
    }
   ],
   "source": [
    "fista_model_1000.get('coefficients').print_rows(num_rows = 11)"
   ]
  },
  {
   "cell_type": "code",
   "execution_count": 15,
   "metadata": {
    "collapsed": false
   },
   "outputs": [
    {
     "name": "stdout",
     "output_type": "stream",
     "text": [
      "+--------------------+-------+-----------------+--------+\n",
      "|        name        | index |      value      | stderr |\n",
      "+--------------------+-------+-----------------+--------+\n",
      "|    (intercept)     |  None |  57183.1150303  |  None  |\n",
      "|  Direct searches   |  None |  4.08828759244  |  None  |\n",
      "| Directions actions |  None |   28.998553923  |  None  |\n",
      "| Discovery searches |  None |  2.08735816664  |  None  |\n",
      "|     Maps views     |  None |  1.40481451575  |  None  |\n",
      "| Phone call actions |  None |  -36.4630422671 |  None  |\n",
      "|    Search views    |  None |  -6.14831370072 |  None  |\n",
      "|   Total actions    |  None |       0.0       |  None  |\n",
      "|   Total searches   |  None |  1.71857697004  |  None  |\n",
      "|    Total views     |  None |       0.0       |  None  |\n",
      "|  Website actions   |  None | -0.143248321455 |  None  |\n",
      "+--------------------+-------+-----------------+--------+\n",
      "[11 rows x 4 columns]\n",
      "\n"
     ]
    }
   ],
   "source": [
    "fista_model_1500 = gl.linear_regression.create(reg_data_train, target = 'Net sales', features = features[0:10], feature_rescaling= 'boolean',\n",
    "                                         solver = 'fista', l1_penalty = 1500.0, max_iterations = 2500, verbose = False)\n",
    "fista_model_1500.get('coefficients').print_rows(num_rows = 11)"
   ]
  },
  {
   "cell_type": "code",
   "execution_count": 16,
   "metadata": {
    "collapsed": false
   },
   "outputs": [
    {
     "name": "stdout",
     "output_type": "stream",
     "text": [
      "+--------------------+-------+----------------+--------+\n",
      "|        name        | index |     value      | stderr |\n",
      "+--------------------+-------+----------------+--------+\n",
      "|    (intercept)     |  None | 55605.9763084  |  None  |\n",
      "|  Direct searches   |  None | 2.76667636076  |  None  |\n",
      "| Directions actions |  None | 27.5371192178  |  None  |\n",
      "| Discovery searches |  None |  1.6726203894  |  None  |\n",
      "|     Maps views     |  None | 1.46597952725  |  None  |\n",
      "| Phone call actions |  None | -28.8745466179 |  None  |\n",
      "|    Search views    |  None | -5.26116504589 |  None  |\n",
      "|   Total actions    |  None |      0.0       |  None  |\n",
      "|   Total searches   |  None | 1.37491425585  |  None  |\n",
      "|    Total views     |  None |      0.0       |  None  |\n",
      "|  Website actions   |  None |      0.0       |  None  |\n",
      "+--------------------+-------+----------------+--------+\n",
      "[11 rows x 4 columns]\n",
      "\n"
     ]
    }
   ],
   "source": [
    "fista_model_2000 = gl.linear_regression.create(reg_data_train, target = 'Net sales', features = features[0:10], feature_rescaling= 'boolean',\n",
    "                                         solver = 'fista', l1_penalty = 2000.0, max_iterations = 2500, verbose = False)\n",
    "fista_model_2000.get('coefficients').print_rows(num_rows = 11)"
   ]
  },
  {
   "cell_type": "code",
   "execution_count": 17,
   "metadata": {
    "collapsed": false
   },
   "outputs": [
    {
     "name": "stdout",
     "output_type": "stream",
     "text": [
      "+--------------------+-------+-----------------+--------+\n",
      "|        name        | index |      value      | stderr |\n",
      "+--------------------+-------+-----------------+--------+\n",
      "|    (intercept)     |  None |  58593.0803621  |  None  |\n",
      "|  Direct searches   |  None |  11.0957809272  |  None  |\n",
      "| Directions actions |  None |  35.0537434789  |  None  |\n",
      "| Discovery searches |  None |  3.10935117257  |  None  |\n",
      "|     Maps views     |  None |   1.7448966752  |  None  |\n",
      "| Phone call actions |  None |  -59.6637463124 |  None  |\n",
      "|    Search views    |  None |  -8.04313435855 |  None  |\n",
      "|   Total actions    |  None |       0.0       |  None  |\n",
      "|   Total searches   |  None |  2.60814545092  |  None  |\n",
      "|    Total views     |  None | -0.325063798496 |  None  |\n",
      "|  Website actions   |  None |  -9.78503644199 |  None  |\n",
      "+--------------------+-------+-----------------+--------+\n",
      "[11 rows x 4 columns]\n",
      "\n"
     ]
    }
   ],
   "source": [
    "fista_model_100 = gl.linear_regression.create(reg_data_train, target = 'Net sales', features = features[0:10], feature_rescaling= 'boolean',\n",
    "                                         solver = 'fista', l1_penalty = 100.0, max_iterations = 2500, verbose = False)\n",
    "fista_model_100.get('coefficients').print_rows(num_rows = 11)"
   ]
  },
  {
   "cell_type": "code",
   "execution_count": 18,
   "metadata": {
    "collapsed": false
   },
   "outputs": [
    {
     "name": "stdout",
     "output_type": "stream",
     "text": [
      "+--------------------+-------+-----------------+---------------+\n",
      "|        name        | index |      value      |     stderr    |\n",
      "+--------------------+-------+-----------------+---------------+\n",
      "|    (intercept)     |  None |  58706.5116425  | 11659.1456193 |\n",
      "|  Direct searches   |  None |  11.6694975158  | 60446374.1771 |\n",
      "| Directions actions |  None |  31.2866176055  |      nan      |\n",
      "| Discovery searches |  None |   3.1801890338  | 60446374.1771 |\n",
      "|     Maps views     |  None |  1.99326196789  | 2747453.12946 |\n",
      "| Phone call actions |  None |  -65.5765006939 |      nan      |\n",
      "|    Search views    |  None |  -7.96508259872 | 2747453.12945 |\n",
      "|   Total actions    |  None |  4.32955628389  |      nan      |\n",
      "|   Total searches   |  None |  2.67081132948  | 60446374.1771 |\n",
      "|    Total views     |  None | -0.573914314927 | 2747453.12947 |\n",
      "|  Website actions   |  None |  -14.7666548663 |      nan      |\n",
      "+--------------------+-------+-----------------+---------------+\n",
      "[11 rows x 4 columns]\n",
      "\n"
     ]
    }
   ],
   "source": [
    "reg_model = gl.linear_regression.create(reg_data_train, target = 'Net sales', features = features[0:10], verbose = False)\n",
    "reg_model.get('coefficients').print_rows(num_rows = 11)"
   ]
  },
  {
   "cell_type": "code",
   "execution_count": 19,
   "metadata": {
    "collapsed": false
   },
   "outputs": [
    {
     "name": "stdout",
     "output_type": "stream",
     "text": [
      "+--------------------+-------+-----------------+--------+\n",
      "|        name        | index |      value      | stderr |\n",
      "+--------------------+-------+-----------------+--------+\n",
      "|    (intercept)     |  None |  49115.6518814  |  None  |\n",
      "|  Direct searches   |  None |       0.0       |  None  |\n",
      "| Directions actions |  None |  22.5389650559  |  None  |\n",
      "| Discovery searches |  None | 0.0885436619508 |  None  |\n",
      "|     Maps views     |  None |   1.6732850089  |  None  |\n",
      "| Phone call actions |  None |  -1.80979115466 |  None  |\n",
      "|    Search views    |  None |  -1.92194222864 |  None  |\n",
      "|   Total actions    |  None |       0.0       |  None  |\n",
      "|   Total searches   |  None |       0.0       |  None  |\n",
      "|    Total views     |  None |       0.0       |  None  |\n",
      "|  Website actions   |  None |       0.0       |  None  |\n",
      "+--------------------+-------+-----------------+--------+\n",
      "[11 rows x 4 columns]\n",
      "\n"
     ]
    }
   ],
   "source": [
    "fista_model_4000 = gl.linear_regression.create(reg_data_train, target = 'Net sales', features = features[0:10], feature_rescaling= 'boolean',\n",
    "                                         solver = 'fista', l1_penalty = 4000.0, max_iterations = 2500, verbose = False)\n",
    "fista_model_4000.get('coefficients').print_rows(num_rows = 11)"
   ]
  },
  {
   "cell_type": "code",
   "execution_count": 20,
   "metadata": {
    "collapsed": false
   },
   "outputs": [
    {
     "name": "stdout",
     "output_type": "stream",
     "text": [
      "+--------------------+-------+-----------------+--------+\n",
      "|        name        | index |      value      | stderr |\n",
      "+--------------------+-------+-----------------+--------+\n",
      "|    (intercept)     |  None |  44761.5832456  |  None  |\n",
      "|  Direct searches   |  None |       0.0       |  None  |\n",
      "| Directions actions |  None |  16.8617482848  |  None  |\n",
      "| Discovery searches |  None |       0.0       |  None  |\n",
      "|     Maps views     |  None |  1.29109754327  |  None  |\n",
      "| Phone call actions |  None |       0.0       |  None  |\n",
      "|    Search views    |  None | -0.440045254745 |  None  |\n",
      "|   Total actions    |  None |       0.0       |  None  |\n",
      "|   Total searches   |  None |       0.0       |  None  |\n",
      "|    Total views     |  None |       0.0       |  None  |\n",
      "|  Website actions   |  None |       0.0       |  None  |\n",
      "+--------------------+-------+-----------------+--------+\n",
      "[11 rows x 4 columns]\n",
      "\n"
     ]
    }
   ],
   "source": [
    "fista_model_6000 = gl.linear_regression.create(reg_data_train, target = 'Net sales', features = features[0:10], feature_rescaling= 'boolean',\n",
    "                                         solver = 'fista', l1_penalty = 6000.0, max_iterations = 2500, verbose = False)\n",
    "fista_model_6000.get('coefficients').print_rows(num_rows = 11)"
   ]
  },
  {
   "cell_type": "markdown",
   "metadata": {},
   "source": [
    "## Evaluate training error of all models"
   ]
  },
  {
   "cell_type": "code",
   "execution_count": 21,
   "metadata": {
    "collapsed": false
   },
   "outputs": [
    {
     "data": {
      "text/plain": [
       "{'max_error': 9136.27994593983, 'rmse': 9136.27994593983}"
      ]
     },
     "execution_count": 21,
     "metadata": {},
     "output_type": "execute_result"
    }
   ],
   "source": [
    "results_100 = fista_model_100.evaluate(reg_data_valid)\n",
    "results_100"
   ]
  },
  {
   "cell_type": "code",
   "execution_count": 22,
   "metadata": {
    "collapsed": false
   },
   "outputs": [
    {
     "data": {
      "text/plain": [
       "{'max_error': 6711.803613414282, 'rmse': 6711.803613414282}"
      ]
     },
     "execution_count": 22,
     "metadata": {},
     "output_type": "execute_result"
    }
   ],
   "source": [
    "results_1500 = fista_model_1500.evaluate(reg_data_valid)\n",
    "results_1500"
   ]
  },
  {
   "cell_type": "code",
   "execution_count": 23,
   "metadata": {
    "collapsed": false
   },
   "outputs": [
    {
     "data": {
      "text/plain": [
       "{'max_error': 7563.192835776754, 'rmse': 7563.192835776754}"
      ]
     },
     "execution_count": 23,
     "metadata": {},
     "output_type": "execute_result"
    }
   ],
   "source": [
    "results_1000 = fista_model_1000.evaluate(reg_data_valid)\n",
    "results_1000"
   ]
  },
  {
   "cell_type": "code",
   "execution_count": 24,
   "metadata": {
    "collapsed": false
   },
   "outputs": [
    {
     "data": {
      "text/plain": [
       "{'max_error': 6005.715899547249, 'rmse': 6005.715899547249}"
      ]
     },
     "execution_count": 24,
     "metadata": {},
     "output_type": "execute_result"
    }
   ],
   "source": [
    "results_2000 = fista_model_2000.evaluate(reg_data_valid)\n",
    "results_2000"
   ]
  },
  {
   "cell_type": "code",
   "execution_count": 25,
   "metadata": {
    "collapsed": false
   },
   "outputs": [
    {
     "data": {
      "text/plain": [
       "{'max_error': 3777.6785119270717, 'rmse': 3777.6785119270717}"
      ]
     },
     "execution_count": 25,
     "metadata": {},
     "output_type": "execute_result"
    }
   ],
   "source": [
    "results_4000 = fista_model_4000.evaluate(reg_data_valid)\n",
    "results_4000"
   ]
  },
  {
   "cell_type": "code",
   "execution_count": 26,
   "metadata": {
    "collapsed": false
   },
   "outputs": [
    {
     "data": {
      "text/plain": [
       "{'max_error': 3297.0768705578157, 'rmse': 3297.0768705578157}"
      ]
     },
     "execution_count": 26,
     "metadata": {},
     "output_type": "execute_result"
    }
   ],
   "source": [
    "results_6000 = fista_model_6000.evaluate(reg_data_valid)\n",
    "results_6000"
   ]
  },
  {
   "cell_type": "code",
   "execution_count": 27,
   "metadata": {
    "collapsed": false
   },
   "outputs": [
    {
     "data": {
      "text/plain": [
       "{'max_error': 9329.96718090264, 'rmse': 9329.96718090264}"
      ]
     },
     "execution_count": 27,
     "metadata": {},
     "output_type": "execute_result"
    }
   ],
   "source": [
    "results_reg = reg_model.evaluate(reg_data_valid)\n",
    "results_reg"
   ]
  },
  {
   "cell_type": "markdown",
   "metadata": {
    "collapsed": true
   },
   "source": [
    "## Evaluate testing error of all models"
   ]
  },
  {
   "cell_type": "code",
   "execution_count": 30,
   "metadata": {
    "collapsed": false
   },
   "outputs": [
    {
     "data": {
      "text/plain": [
       "{'max_error': 18657.85211902149, 'rmse': 9110.904772112832}"
      ]
     },
     "execution_count": 30,
     "metadata": {},
     "output_type": "execute_result"
    }
   ],
   "source": [
    "testing_error = fista_model_100.evaluate(reg_data_test)\n",
    "testing_error"
   ]
  },
  {
   "cell_type": "code",
   "execution_count": 29,
   "metadata": {
    "collapsed": false
   },
   "outputs": [
    {
     "data": {
      "text/plain": [
       "{'max_error': 17955.75322865919, 'rmse': 8287.347311269119}"
      ]
     },
     "execution_count": 29,
     "metadata": {},
     "output_type": "execute_result"
    }
   ],
   "source": [
    "testing_error = fista_model_1500.evaluate(reg_data_test)\n",
    "testing_error"
   ]
  },
  {
   "cell_type": "code",
   "execution_count": 28,
   "metadata": {
    "collapsed": false
   },
   "outputs": [
    {
     "data": {
      "text/plain": [
       "{'max_error': 18196.661445603786, 'rmse': 8564.530829281588}"
      ]
     },
     "execution_count": 28,
     "metadata": {},
     "output_type": "execute_result"
    }
   ],
   "source": [
    "testing_error = fista_model_1000.evaluate(reg_data_test)\n",
    "testing_error"
   ]
  },
  {
   "cell_type": "code",
   "execution_count": 211,
   "metadata": {
    "collapsed": false
   },
   "outputs": [
    {
     "data": {
      "text/plain": [
       "{'max_error': 17743.43409533568, 'rmse': 8082.5698124836945}"
      ]
     },
     "execution_count": 211,
     "metadata": {},
     "output_type": "execute_result"
    }
   ],
   "source": [
    "testing_error = fista_model_2000.evaluate(reg_data_test)\n",
    "testing_error"
   ]
  },
  {
   "cell_type": "code",
   "execution_count": 214,
   "metadata": {
    "collapsed": false
   },
   "outputs": [
    {
     "data": {
      "text/plain": [
       "{'max_error': 16855.63736239649, 'rmse': 7439.589710814676}"
      ]
     },
     "execution_count": 214,
     "metadata": {},
     "output_type": "execute_result"
    }
   ],
   "source": [
    "testing_error = fista_model_4000.evaluate(reg_data_test)\n",
    "testing_error"
   ]
  },
  {
   "cell_type": "code",
   "execution_count": 217,
   "metadata": {
    "collapsed": false
   },
   "outputs": [
    {
     "data": {
      "text/plain": [
       "{'max_error': 16801.76566728374, 'rmse': 7399.010267031322}"
      ]
     },
     "execution_count": 217,
     "metadata": {},
     "output_type": "execute_result"
    }
   ],
   "source": [
    "testing_error = fista_model_5000.evaluate(reg_data_test)\n",
    "testing_error"
   ]
  },
  {
   "cell_type": "code",
   "execution_count": 218,
   "metadata": {
    "collapsed": false
   },
   "outputs": [
    {
     "data": {
      "text/plain": [
       "{'max_error': 16778.000491111212, 'rmse': 7382.95969722492}"
      ]
     },
     "execution_count": 218,
     "metadata": {},
     "output_type": "execute_result"
    }
   ],
   "source": [
    "testing_error = fista_model_6000.evaluate(reg_data_test)\n",
    "testing_error"
   ]
  },
  {
   "cell_type": "code",
   "execution_count": 31,
   "metadata": {
    "collapsed": false
   },
   "outputs": [
    {
     "data": {
      "text/plain": [
       "{'max_error': 18708.633378211984, 'rmse': 9176.829975547274}"
      ]
     },
     "execution_count": 31,
     "metadata": {},
     "output_type": "execute_result"
    }
   ],
   "source": [
    "testing_error = reg_model.evaluate(reg_data_test)\n",
    "testing_error"
   ]
  }
 ],
 "metadata": {
  "kernelspec": {
   "display_name": "Python 2",
   "language": "python",
   "name": "python2"
  },
  "language_info": {
   "codemirror_mode": {
    "name": "ipython",
    "version": 2
   },
   "file_extension": ".py",
   "mimetype": "text/x-python",
   "name": "python",
   "nbconvert_exporter": "python",
   "pygments_lexer": "ipython2",
   "version": "2.7.11"
  }
 },
 "nbformat": 4,
 "nbformat_minor": 0
}
